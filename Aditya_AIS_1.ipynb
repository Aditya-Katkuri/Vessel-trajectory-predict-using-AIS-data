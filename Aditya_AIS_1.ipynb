{
  "cells": [
    {
      "cell_type": "code",
      "execution_count": null,
      "id": "b19caff8",
      "metadata": {
        "id": "b19caff8"
      },
      "outputs": [],
      "source": [
        "import pandas as pd"
      ]
    },
    {
      "cell_type": "code",
      "execution_count": null,
      "id": "4c13d45f",
      "metadata": {
        "id": "4c13d45f"
      },
      "outputs": [],
      "source": [
        "df = pd.concat(map(pd.read_csv, ['AIS_2022_01_01.csv', 'AIS_2022_01_02.csv']))"
      ]
    },
    {
      "cell_type": "code",
      "execution_count": null,
      "id": "926d6fc2",
      "metadata": {
        "id": "926d6fc2",
        "outputId": "4d491ad8-3ec4-4b0b-cd28-3a0049b9f103"
      },
      "outputs": [
        {
          "data": {
            "text/plain": [
              "(13884609, 17)"
            ]
          },
          "execution_count": 486,
          "metadata": {},
          "output_type": "execute_result"
        }
      ],
      "source": [
        "df.shape"
      ]
    },
    {
      "cell_type": "code",
      "execution_count": null,
      "id": "cd1ce7f0",
      "metadata": {
        "scrolled": true,
        "id": "cd1ce7f0",
        "outputId": "a6670263-90eb-4471-bb0d-a487396926ab"
      },
      "outputs": [
        {
          "data": {
            "text/html": [
              "<div>\n",
              "<style scoped>\n",
              "    .dataframe tbody tr th:only-of-type {\n",
              "        vertical-align: middle;\n",
              "    }\n",
              "\n",
              "    .dataframe tbody tr th {\n",
              "        vertical-align: top;\n",
              "    }\n",
              "\n",
              "    .dataframe thead th {\n",
              "        text-align: right;\n",
              "    }\n",
              "</style>\n",
              "<table border=\"1\" class=\"dataframe\">\n",
              "  <thead>\n",
              "    <tr style=\"text-align: right;\">\n",
              "      <th></th>\n",
              "      <th>MMSI</th>\n",
              "      <th>BaseDateTime</th>\n",
              "      <th>LAT</th>\n",
              "      <th>LON</th>\n",
              "      <th>SOG</th>\n",
              "      <th>COG</th>\n",
              "      <th>Heading</th>\n",
              "      <th>VesselName</th>\n",
              "      <th>IMO</th>\n",
              "      <th>CallSign</th>\n",
              "      <th>VesselType</th>\n",
              "      <th>Status</th>\n",
              "      <th>Length</th>\n",
              "      <th>Width</th>\n",
              "      <th>Draft</th>\n",
              "      <th>Cargo</th>\n",
              "      <th>TransceiverClass</th>\n",
              "    </tr>\n",
              "  </thead>\n",
              "  <tbody>\n",
              "    <tr>\n",
              "      <th>0</th>\n",
              "      <td>368084090</td>\n",
              "      <td>2022-01-01T00:00:00</td>\n",
              "      <td>29.93174</td>\n",
              "      <td>-89.99243</td>\n",
              "      <td>6.0</td>\n",
              "      <td>296.2</td>\n",
              "      <td>299.0</td>\n",
              "      <td>LARRY B WHIPPLE</td>\n",
              "      <td>NaN</td>\n",
              "      <td>WDK7401</td>\n",
              "      <td>57.0</td>\n",
              "      <td>12.0</td>\n",
              "      <td>23.0</td>\n",
              "      <td>10.0</td>\n",
              "      <td>3.0</td>\n",
              "      <td>57.0</td>\n",
              "      <td>A</td>\n",
              "    </tr>\n",
              "    <tr>\n",
              "      <th>1</th>\n",
              "      <td>368140160</td>\n",
              "      <td>2022-01-01T00:00:00</td>\n",
              "      <td>30.33475</td>\n",
              "      <td>-87.14429</td>\n",
              "      <td>0.0</td>\n",
              "      <td>312.0</td>\n",
              "      <td>87.0</td>\n",
              "      <td>TWISTED ANGEL</td>\n",
              "      <td>IMO0000000</td>\n",
              "      <td>WDL5339</td>\n",
              "      <td>36.0</td>\n",
              "      <td>NaN</td>\n",
              "      <td>12.0</td>\n",
              "      <td>7.0</td>\n",
              "      <td>NaN</td>\n",
              "      <td>NaN</td>\n",
              "      <td>B</td>\n",
              "    </tr>\n",
              "    <tr>\n",
              "      <th>2</th>\n",
              "      <td>366941830</td>\n",
              "      <td>2022-01-01T00:00:02</td>\n",
              "      <td>29.30919</td>\n",
              "      <td>-94.79702</td>\n",
              "      <td>0.0</td>\n",
              "      <td>180.2</td>\n",
              "      <td>511.0</td>\n",
              "      <td>SAN PATRICIO</td>\n",
              "      <td>NaN</td>\n",
              "      <td>WCX6675</td>\n",
              "      <td>31.0</td>\n",
              "      <td>5.0</td>\n",
              "      <td>18.0</td>\n",
              "      <td>7.0</td>\n",
              "      <td>NaN</td>\n",
              "      <td>57.0</td>\n",
              "      <td>A</td>\n",
              "    </tr>\n",
              "    <tr>\n",
              "      <th>3</th>\n",
              "      <td>316005971</td>\n",
              "      <td>2022-01-01T00:00:06</td>\n",
              "      <td>46.50268</td>\n",
              "      <td>-84.35674</td>\n",
              "      <td>2.4</td>\n",
              "      <td>258.6</td>\n",
              "      <td>257.0</td>\n",
              "      <td>BEVERLY M I</td>\n",
              "      <td>IMO9084047</td>\n",
              "      <td>CFP2004</td>\n",
              "      <td>31.0</td>\n",
              "      <td>0.0</td>\n",
              "      <td>34.0</td>\n",
              "      <td>10.0</td>\n",
              "      <td>5.3</td>\n",
              "      <td>99.0</td>\n",
              "      <td>A</td>\n",
              "    </tr>\n",
              "    <tr>\n",
              "      <th>4</th>\n",
              "      <td>316004054</td>\n",
              "      <td>2022-01-01T00:00:07</td>\n",
              "      <td>46.50326</td>\n",
              "      <td>-84.37506</td>\n",
              "      <td>0.3</td>\n",
              "      <td>61.9</td>\n",
              "      <td>511.0</td>\n",
              "      <td>ADANAC III</td>\n",
              "      <td>IMO8745333</td>\n",
              "      <td>VCLT</td>\n",
              "      <td>31.0</td>\n",
              "      <td>0.0</td>\n",
              "      <td>24.0</td>\n",
              "      <td>5.0</td>\n",
              "      <td>3.0</td>\n",
              "      <td>50.0</td>\n",
              "      <td>A</td>\n",
              "    </tr>\n",
              "  </tbody>\n",
              "</table>\n",
              "</div>"
            ],
            "text/plain": [
              "        MMSI         BaseDateTime       LAT       LON  SOG    COG  Heading  \\\n",
              "0  368084090  2022-01-01T00:00:00  29.93174 -89.99243  6.0  296.2    299.0   \n",
              "1  368140160  2022-01-01T00:00:00  30.33475 -87.14429  0.0  312.0     87.0   \n",
              "2  366941830  2022-01-01T00:00:02  29.30919 -94.79702  0.0  180.2    511.0   \n",
              "3  316005971  2022-01-01T00:00:06  46.50268 -84.35674  2.4  258.6    257.0   \n",
              "4  316004054  2022-01-01T00:00:07  46.50326 -84.37506  0.3   61.9    511.0   \n",
              "\n",
              "        VesselName         IMO CallSign  VesselType  Status  Length  Width  \\\n",
              "0  LARRY B WHIPPLE         NaN  WDK7401        57.0    12.0    23.0   10.0   \n",
              "1    TWISTED ANGEL  IMO0000000  WDL5339        36.0     NaN    12.0    7.0   \n",
              "2     SAN PATRICIO         NaN  WCX6675        31.0     5.0    18.0    7.0   \n",
              "3      BEVERLY M I  IMO9084047  CFP2004        31.0     0.0    34.0   10.0   \n",
              "4       ADANAC III  IMO8745333     VCLT        31.0     0.0    24.0    5.0   \n",
              "\n",
              "   Draft  Cargo TransceiverClass  \n",
              "0    3.0   57.0                A  \n",
              "1    NaN    NaN                B  \n",
              "2    NaN   57.0                A  \n",
              "3    5.3   99.0                A  \n",
              "4    3.0   50.0                A  "
            ]
          },
          "execution_count": 487,
          "metadata": {},
          "output_type": "execute_result"
        }
      ],
      "source": [
        "df.head()"
      ]
    },
    {
      "cell_type": "code",
      "execution_count": null,
      "id": "26b02f05",
      "metadata": {
        "id": "26b02f05"
      },
      "outputs": [],
      "source": [
        "df = df.loc[(df['MMSI'] >= 20), [\"MMSI\",\"BaseDateTime\",\"LAT\",\"LON\",\"SOG\",\"COG\",\"VesselName\",\"VesselType\"]]"
      ]
    },
    {
      "cell_type": "code",
      "execution_count": null,
      "id": "d695c0f6",
      "metadata": {
        "id": "d695c0f6",
        "outputId": "cffe6f83-296a-4d88-a29f-9446662f2bca"
      },
      "outputs": [
        {
          "data": {
            "text/plain": [
              "(13884054, 8)"
            ]
          },
          "execution_count": 489,
          "metadata": {},
          "output_type": "execute_result"
        }
      ],
      "source": [
        "df.shape"
      ]
    },
    {
      "cell_type": "code",
      "execution_count": null,
      "id": "3d30ebb6",
      "metadata": {
        "id": "3d30ebb6"
      },
      "outputs": [],
      "source": [
        "df_80 = df[df.VesselType == 80]"
      ]
    },
    {
      "cell_type": "code",
      "execution_count": null,
      "id": "0cc76373",
      "metadata": {
        "id": "0cc76373",
        "outputId": "c806ffc7-11ae-45cb-fd54-3f68c3e676a9"
      },
      "outputs": [
        {
          "data": {
            "text/plain": [
              "(559147, 8)"
            ]
          },
          "execution_count": 491,
          "metadata": {},
          "output_type": "execute_result"
        }
      ],
      "source": [
        "df_80.shape"
      ]
    },
    {
      "cell_type": "code",
      "execution_count": null,
      "id": "5484cf9d",
      "metadata": {
        "id": "5484cf9d"
      },
      "outputs": [],
      "source": [
        "df_80 = df_80.dropna()"
      ]
    },
    {
      "cell_type": "code",
      "execution_count": null,
      "id": "0123e83a",
      "metadata": {
        "id": "0123e83a",
        "outputId": "b4212745-4950-4ca3-d19f-4ee1f7946ab7"
      },
      "outputs": [
        {
          "data": {
            "text/plain": [
              "(559147, 8)"
            ]
          },
          "execution_count": 493,
          "metadata": {},
          "output_type": "execute_result"
        }
      ],
      "source": [
        "df_80.shape"
      ]
    },
    {
      "cell_type": "code",
      "execution_count": null,
      "id": "d75b3392",
      "metadata": {
        "id": "d75b3392"
      },
      "outputs": [],
      "source": [
        "df_80 = df_80.drop_duplicates()"
      ]
    },
    {
      "cell_type": "code",
      "execution_count": null,
      "id": "f2affd3c",
      "metadata": {
        "id": "f2affd3c",
        "outputId": "ba6e8e28-8097-435c-aca5-f4133a67c78d"
      },
      "outputs": [
        {
          "data": {
            "text/plain": [
              "(559115, 8)"
            ]
          },
          "execution_count": 495,
          "metadata": {},
          "output_type": "execute_result"
        }
      ],
      "source": [
        "df_80.shape"
      ]
    },
    {
      "cell_type": "code",
      "execution_count": null,
      "id": "ef66045c",
      "metadata": {
        "id": "ef66045c"
      },
      "outputs": [],
      "source": [
        "df_80 = df_80.reset_index(drop=True)"
      ]
    },
    {
      "cell_type": "code",
      "execution_count": null,
      "id": "7dda854e",
      "metadata": {
        "id": "7dda854e",
        "outputId": "0ff9675b-f5a3-4c1a-a2ac-c06ec01a7cb6"
      },
      "outputs": [
        {
          "data": {
            "text/plain": [
              "(559115, 8)"
            ]
          },
          "execution_count": 497,
          "metadata": {},
          "output_type": "execute_result"
        }
      ],
      "source": [
        "df_80.shape"
      ]
    },
    {
      "cell_type": "code",
      "execution_count": null,
      "id": "774a831e",
      "metadata": {
        "id": "774a831e",
        "outputId": "3c3287a6-32b7-42e3-f09e-0b283e32d13d"
      },
      "outputs": [
        {
          "data": {
            "text/plain": [
              "MMSI            0\n",
              "BaseDateTime    0\n",
              "LAT             0\n",
              "LON             0\n",
              "SOG             0\n",
              "COG             0\n",
              "VesselName      0\n",
              "VesselType      0\n",
              "dtype: int64"
            ]
          },
          "execution_count": 498,
          "metadata": {},
          "output_type": "execute_result"
        }
      ],
      "source": [
        "df_80.isnull().sum()"
      ]
    },
    {
      "cell_type": "code",
      "execution_count": null,
      "id": "37bfba58",
      "metadata": {
        "id": "37bfba58",
        "outputId": "b64cbf00-d345-45b3-e254-0217bd8ecc87"
      },
      "outputs": [
        {
          "data": {
            "text/plain": [
              "10.24173"
            ]
          },
          "execution_count": 499,
          "metadata": {},
          "output_type": "execute_result"
        }
      ],
      "source": [
        "df_80['LAT'].min()"
      ]
    },
    {
      "cell_type": "code",
      "execution_count": null,
      "id": "816034a6",
      "metadata": {
        "id": "816034a6",
        "outputId": "2d726982-de18-486f-a201-b2b2fa28e980"
      },
      "outputs": [
        {
          "data": {
            "text/plain": [
              "49.32398"
            ]
          },
          "execution_count": 500,
          "metadata": {},
          "output_type": "execute_result"
        }
      ],
      "source": [
        "df_80['LAT'].max()"
      ]
    },
    {
      "cell_type": "code",
      "execution_count": null,
      "id": "969ddeca",
      "metadata": {
        "id": "969ddeca",
        "outputId": "5bbfe8a7-2656-446d-def0-8bc92f06e59f"
      },
      "outputs": [
        {
          "data": {
            "text/plain": [
              "146.67427"
            ]
          },
          "execution_count": 501,
          "metadata": {},
          "output_type": "execute_result"
        }
      ],
      "source": [
        "df_80['LON'].max()"
      ]
    },
    {
      "cell_type": "code",
      "execution_count": null,
      "id": "533a8c1d",
      "metadata": {
        "id": "533a8c1d",
        "outputId": "315070e0-81cd-4bfc-d745-a0e67b65be2b"
      },
      "outputs": [
        {
          "data": {
            "text/plain": [
              "-159.27445"
            ]
          },
          "execution_count": 502,
          "metadata": {},
          "output_type": "execute_result"
        }
      ],
      "source": [
        "df_80['LON'].min()"
      ]
    },
    {
      "cell_type": "code",
      "execution_count": null,
      "id": "4f226a64",
      "metadata": {
        "id": "4f226a64",
        "outputId": "27a8de2b-9a98-4c0d-c302-90d2927702b8"
      },
      "outputs": [
        {
          "data": {
            "text/plain": [
              "338227000    2600\n",
              "636016093    2503\n",
              "367403140    2495\n",
              "316014160    2488\n",
              "367067110    2483\n",
              "             ... \n",
              "563624000       1\n",
              "636011454       1\n",
              "636016005       1\n",
              "566915000       1\n",
              "311476000       1\n",
              "Name: MMSI, Length: 658, dtype: int64"
            ]
          },
          "execution_count": 503,
          "metadata": {},
          "output_type": "execute_result"
        }
      ],
      "source": [
        "df_80['MMSI'].value_counts()"
      ]
    },
    {
      "cell_type": "code",
      "execution_count": null,
      "id": "ca4b6181",
      "metadata": {
        "id": "ca4b6181",
        "outputId": "cf5543ff-b021-46bb-fc3e-03aa16710cf5"
      },
      "outputs": [
        {
          "data": {
            "text/plain": [
              "<AxesSubplot:>"
            ]
          },
          "execution_count": 504,
          "metadata": {},
          "output_type": "execute_result"
        },
        {
          "data": {
            "image/png": "[encoded data removed]",
            "text/plain": [
              "<Figure size 2160x1440 with 1 Axes>"
            ]
          },
          "metadata": {
            "needs_background": "light"
          },
          "output_type": "display_data"
        }
      ],
      "source": [
        "pd.DataFrame(df_80['MMSI'].value_counts()).plot(kind='bar', figsize=(30,20))"
      ]
    },
    {
      "cell_type": "code",
      "execution_count": null,
      "id": "62b0d398",
      "metadata": {
        "id": "62b0d398"
      },
      "outputs": [],
      "source": [
        "df_80_1 = df_80[df_80['MMSI'] == 338227000]"
      ]
    },
    {
      "cell_type": "code",
      "execution_count": null,
      "id": "445473ca",
      "metadata": {
        "id": "445473ca",
        "outputId": "60532bf9-2498-45c0-bd1c-2f130459fb7a"
      },
      "outputs": [
        {
          "data": {
            "text/plain": [
              "(2600, 8)"
            ]
          },
          "execution_count": 506,
          "metadata": {},
          "output_type": "execute_result"
        }
      ],
      "source": [
        "df_80_1.shape"
      ]
    },
    {
      "cell_type": "code",
      "execution_count": null,
      "id": "0fdf8881",
      "metadata": {
        "id": "0fdf8881",
        "outputId": "5b7b887c-d7f6-4de1-d575-ab8055c9aaa5"
      },
      "outputs": [
        {
          "data": {
            "text/plain": [
              "33.62938"
            ]
          },
          "execution_count": 507,
          "metadata": {},
          "output_type": "execute_result"
        }
      ],
      "source": [
        "df_80_1['LAT'].min()"
      ]
    },
    {
      "cell_type": "code",
      "execution_count": null,
      "id": "494d37b0",
      "metadata": {
        "id": "494d37b0",
        "outputId": "b7410c64-1973-4ac3-fd1c-36bec443f270"
      },
      "outputs": [
        {
          "data": {
            "text/plain": [
              "-125.49317"
            ]
          },
          "execution_count": 508,
          "metadata": {},
          "output_type": "execute_result"
        }
      ],
      "source": [
        "df_80_1['LON'].min()"
      ]
    },
    {
      "cell_type": "code",
      "execution_count": null,
      "id": "f859995c",
      "metadata": {
        "id": "f859995c",
        "outputId": "4f56c339-0b99-4dc8-9b30-2faaed7903c5"
      },
      "outputs": [
        {
          "data": {
            "text/plain": [
              "40.00557"
            ]
          },
          "execution_count": 509,
          "metadata": {},
          "output_type": "execute_result"
        }
      ],
      "source": [
        "df_80_1['LAT'].max()"
      ]
    },
    {
      "cell_type": "code",
      "execution_count": null,
      "id": "dab8d9ad",
      "metadata": {
        "id": "dab8d9ad",
        "outputId": "21db1592-8898-4789-a015-cffc6300ebd6"
      },
      "outputs": [
        {
          "data": {
            "text/plain": [
              "-118.18469"
            ]
          },
          "execution_count": 510,
          "metadata": {},
          "output_type": "execute_result"
        }
      ],
      "source": [
        "df_80_1['LON'].max()"
      ]
    },
    {
      "cell_type": "code",
      "execution_count": null,
      "id": "e7bd8695",
      "metadata": {
        "id": "e7bd8695",
        "outputId": "3172359a-a0f2-4778-d4de-2c643e082145"
      },
      "outputs": [
        {
          "data": {
            "text/plain": [
              "(2600, 3)"
            ]
          },
          "execution_count": 511,
          "metadata": {},
          "output_type": "execute_result"
        }
      ],
      "source": [
        "df_80_1_lola = df = df_80_1.loc[(df_80_1['MMSI'] >= 20), [\"BaseDateTime\",\"LAT\",\"LON\"]]\n",
        "df_80_1_lola.shape"
      ]
    },
    {
      "cell_type": "code",
      "execution_count": null,
      "id": "0df7543b",
      "metadata": {
        "id": "0df7543b",
        "outputId": "8ded3216-73f5-4e35-c891-9dcc6cde1bb7"
      },
      "outputs": [
        {
          "data": {
            "text/html": [
              "<div>\n",
              "<style scoped>\n",
              "    .dataframe tbody tr th:only-of-type {\n",
              "        vertical-align: middle;\n",
              "    }\n",
              "\n",
              "    .dataframe tbody tr th {\n",
              "        vertical-align: top;\n",
              "    }\n",
              "\n",
              "    .dataframe thead th {\n",
              "        text-align: right;\n",
              "    }\n",
              "</style>\n",
              "<table border=\"1\" class=\"dataframe\">\n",
              "  <thead>\n",
              "    <tr style=\"text-align: right;\">\n",
              "      <th></th>\n",
              "      <th>BaseDateTime</th>\n",
              "      <th>LAT</th>\n",
              "      <th>LON</th>\n",
              "    </tr>\n",
              "  </thead>\n",
              "  <tbody>\n",
              "    <tr>\n",
              "      <th>217</th>\n",
              "      <td>2022-01-01T00:00:09</td>\n",
              "      <td>33.77469</td>\n",
              "      <td>-118.21549</td>\n",
              "    </tr>\n",
              "    <tr>\n",
              "      <th>874</th>\n",
              "      <td>2022-01-01T00:03:04</td>\n",
              "      <td>33.77469</td>\n",
              "      <td>-118.21549</td>\n",
              "    </tr>\n",
              "    <tr>\n",
              "      <th>1198</th>\n",
              "      <td>2022-01-01T00:06:04</td>\n",
              "      <td>33.77470</td>\n",
              "      <td>-118.21548</td>\n",
              "    </tr>\n",
              "    <tr>\n",
              "      <th>2529</th>\n",
              "      <td>2022-01-01T00:09:07</td>\n",
              "      <td>33.77471</td>\n",
              "      <td>-118.21547</td>\n",
              "    </tr>\n",
              "    <tr>\n",
              "      <th>2754</th>\n",
              "      <td>2022-01-01T00:15:08</td>\n",
              "      <td>33.77465</td>\n",
              "      <td>-118.21547</td>\n",
              "    </tr>\n",
              "  </tbody>\n",
              "</table>\n",
              "</div>"
            ],
            "text/plain": [
              "             BaseDateTime       LAT        LON\n",
              "217   2022-01-01T00:00:09  33.77469 -118.21549\n",
              "874   2022-01-01T00:03:04  33.77469 -118.21549\n",
              "1198  2022-01-01T00:06:04  33.77470 -118.21548\n",
              "2529  2022-01-01T00:09:07  33.77471 -118.21547\n",
              "2754  2022-01-01T00:15:08  33.77465 -118.21547"
            ]
          },
          "execution_count": 512,
          "metadata": {},
          "output_type": "execute_result"
        }
      ],
      "source": [
        "df_80_1_lola.head()"
      ]
    },
    {
      "cell_type": "code",
      "execution_count": null,
      "id": "1f3cfc6a",
      "metadata": {
        "id": "1f3cfc6a",
        "outputId": "d78322d2-80d7-43a9-cef4-565fec545960"
      },
      "outputs": [
        {
          "data": {
            "text/html": [
              "<div>\n",
              "<style scoped>\n",
              "    .dataframe tbody tr th:only-of-type {\n",
              "        vertical-align: middle;\n",
              "    }\n",
              "\n",
              "    .dataframe tbody tr th {\n",
              "        vertical-align: top;\n",
              "    }\n",
              "\n",
              "    .dataframe thead th {\n",
              "        text-align: right;\n",
              "    }\n",
              "</style>\n",
              "<table border=\"1\" class=\"dataframe\">\n",
              "  <thead>\n",
              "    <tr style=\"text-align: right;\">\n",
              "      <th></th>\n",
              "      <th>BaseDateTime</th>\n",
              "      <th>LAT</th>\n",
              "      <th>LON</th>\n",
              "    </tr>\n",
              "  </thead>\n",
              "  <tbody>\n",
              "    <tr>\n",
              "      <th>0</th>\n",
              "      <td>2022-01-01T00:00:09</td>\n",
              "      <td>33.77469</td>\n",
              "      <td>-118.21549</td>\n",
              "    </tr>\n",
              "    <tr>\n",
              "      <th>1</th>\n",
              "      <td>2022-01-01T00:03:04</td>\n",
              "      <td>33.77469</td>\n",
              "      <td>-118.21549</td>\n",
              "    </tr>\n",
              "    <tr>\n",
              "      <th>2</th>\n",
              "      <td>2022-01-01T00:06:04</td>\n",
              "      <td>33.77470</td>\n",
              "      <td>-118.21548</td>\n",
              "    </tr>\n",
              "    <tr>\n",
              "      <th>3</th>\n",
              "      <td>2022-01-01T00:09:07</td>\n",
              "      <td>33.77471</td>\n",
              "      <td>-118.21547</td>\n",
              "    </tr>\n",
              "    <tr>\n",
              "      <th>4</th>\n",
              "      <td>2022-01-01T00:15:08</td>\n",
              "      <td>33.77465</td>\n",
              "      <td>-118.21547</td>\n",
              "    </tr>\n",
              "  </tbody>\n",
              "</table>\n",
              "</div>"
            ],
            "text/plain": [
              "          BaseDateTime       LAT        LON\n",
              "0  2022-01-01T00:00:09  33.77469 -118.21549\n",
              "1  2022-01-01T00:03:04  33.77469 -118.21549\n",
              "2  2022-01-01T00:06:04  33.77470 -118.21548\n",
              "3  2022-01-01T00:09:07  33.77471 -118.21547\n",
              "4  2022-01-01T00:15:08  33.77465 -118.21547"
            ]
          },
          "execution_count": 513,
          "metadata": {},
          "output_type": "execute_result"
        }
      ],
      "source": [
        "df_80_1_lola = df_80_1_lola.reset_index(drop=True)\n",
        "df_80_1_lola.head()"
      ]
    },
    {
      "cell_type": "code",
      "execution_count": null,
      "id": "0c16323e",
      "metadata": {
        "id": "0c16323e",
        "outputId": "1be79e35-2dbe-4da9-941b-8a84c46e3b6e"
      },
      "outputs": [
        {
          "data": {
            "text/html": [
              "<div>\n",
              "<style scoped>\n",
              "    .dataframe tbody tr th:only-of-type {\n",
              "        vertical-align: middle;\n",
              "    }\n",
              "\n",
              "    .dataframe tbody tr th {\n",
              "        vertical-align: top;\n",
              "    }\n",
              "\n",
              "    .dataframe thead th {\n",
              "        text-align: right;\n",
              "    }\n",
              "</style>\n",
              "<table border=\"1\" class=\"dataframe\">\n",
              "  <thead>\n",
              "    <tr style=\"text-align: right;\">\n",
              "      <th></th>\n",
              "      <th>LAT</th>\n",
              "      <th>LON</th>\n",
              "      <th>Date</th>\n",
              "      <th>Time</th>\n",
              "    </tr>\n",
              "  </thead>\n",
              "  <tbody>\n",
              "    <tr>\n",
              "      <th>0</th>\n",
              "      <td>33.77469</td>\n",
              "      <td>-118.21549</td>\n",
              "      <td>2022-01-01</td>\n",
              "      <td>00:00:09</td>\n",
              "    </tr>\n",
              "    <tr>\n",
              "      <th>1</th>\n",
              "      <td>33.77469</td>\n",
              "      <td>-118.21549</td>\n",
              "      <td>2022-01-01</td>\n",
              "      <td>00:03:04</td>\n",
              "    </tr>\n",
              "    <tr>\n",
              "      <th>2</th>\n",
              "      <td>33.77470</td>\n",
              "      <td>-118.21548</td>\n",
              "      <td>2022-01-01</td>\n",
              "      <td>00:06:04</td>\n",
              "    </tr>\n",
              "    <tr>\n",
              "      <th>3</th>\n",
              "      <td>33.77471</td>\n",
              "      <td>-118.21547</td>\n",
              "      <td>2022-01-01</td>\n",
              "      <td>00:09:07</td>\n",
              "    </tr>\n",
              "    <tr>\n",
              "      <th>4</th>\n",
              "      <td>33.77465</td>\n",
              "      <td>-118.21547</td>\n",
              "      <td>2022-01-01</td>\n",
              "      <td>00:15:08</td>\n",
              "    </tr>\n",
              "  </tbody>\n",
              "</table>\n",
              "</div>"
            ],
            "text/plain": [
              "        LAT        LON        Date      Time\n",
              "0  33.77469 -118.21549  2022-01-01  00:00:09\n",
              "1  33.77469 -118.21549  2022-01-01  00:03:04\n",
              "2  33.77470 -118.21548  2022-01-01  00:06:04\n",
              "3  33.77471 -118.21547  2022-01-01  00:09:07\n",
              "4  33.77465 -118.21547  2022-01-01  00:15:08"
            ]
          },
          "execution_count": 514,
          "metadata": {},
          "output_type": "execute_result"
        }
      ],
      "source": [
        "df_80_1_lola[['Date', 'Time']] = df_80_1_lola['BaseDateTime'].str.split('T', expand=True)\n",
        "df_80_1_lola = df_80_1_lola.drop(['BaseDateTime'], axis=1)\n",
        "df_80_1_lola.head()"
      ]
    },
    {
      "cell_type": "code",
      "execution_count": null,
      "id": "f0458944",
      "metadata": {
        "id": "f0458944"
      },
      "outputs": [],
      "source": [
        "df_80_1_lola.to_csv('df_80_1_lola.csv')"
      ]
    },
    {
      "cell_type": "code",
      "execution_count": null,
      "id": "23ada308",
      "metadata": {
        "id": "23ada308",
        "outputId": "99218af6-df71-4ad0-ad07-855f0fd43390"
      },
      "outputs": [
        {
          "data": {
            "text/html": [
              "<div>\n",
              "<style scoped>\n",
              "    .dataframe tbody tr th:only-of-type {\n",
              "        vertical-align: middle;\n",
              "    }\n",
              "\n",
              "    .dataframe tbody tr th {\n",
              "        vertical-align: top;\n",
              "    }\n",
              "\n",
              "    .dataframe thead th {\n",
              "        text-align: right;\n",
              "    }\n",
              "</style>\n",
              "<table border=\"1\" class=\"dataframe\">\n",
              "  <thead>\n",
              "    <tr style=\"text-align: right;\">\n",
              "      <th></th>\n",
              "      <th>LAT</th>\n",
              "      <th>LON</th>\n",
              "      <th>Date</th>\n",
              "      <th>Time</th>\n",
              "    </tr>\n",
              "  </thead>\n",
              "  <tbody>\n",
              "    <tr>\n",
              "      <th>0</th>\n",
              "      <td>33.77469</td>\n",
              "      <td>-118.21549</td>\n",
              "      <td>2022-01-01</td>\n",
              "      <td>00:00:09</td>\n",
              "    </tr>\n",
              "    <tr>\n",
              "      <th>1</th>\n",
              "      <td>33.77469</td>\n",
              "      <td>-118.21549</td>\n",
              "      <td>2022-01-01</td>\n",
              "      <td>00:03:04</td>\n",
              "    </tr>\n",
              "    <tr>\n",
              "      <th>2</th>\n",
              "      <td>33.77470</td>\n",
              "      <td>-118.21548</td>\n",
              "      <td>2022-01-01</td>\n",
              "      <td>00:06:04</td>\n",
              "    </tr>\n",
              "    <tr>\n",
              "      <th>3</th>\n",
              "      <td>33.77471</td>\n",
              "      <td>-118.21547</td>\n",
              "      <td>2022-01-01</td>\n",
              "      <td>00:09:07</td>\n",
              "    </tr>\n",
              "    <tr>\n",
              "      <th>4</th>\n",
              "      <td>33.77465</td>\n",
              "      <td>-118.21547</td>\n",
              "      <td>2022-01-01</td>\n",
              "      <td>00:15:08</td>\n",
              "    </tr>\n",
              "    <tr>\n",
              "      <th>...</th>\n",
              "      <td>...</td>\n",
              "      <td>...</td>\n",
              "      <td>...</td>\n",
              "      <td>...</td>\n",
              "    </tr>\n",
              "    <tr>\n",
              "      <th>2575</th>\n",
              "      <td>39.27698</td>\n",
              "      <td>-125.31910</td>\n",
              "      <td>2022-01-02</td>\n",
              "      <td>20:56:51</td>\n",
              "    </tr>\n",
              "    <tr>\n",
              "      <th>2576</th>\n",
              "      <td>39.29049</td>\n",
              "      <td>-125.32236</td>\n",
              "      <td>2022-01-02</td>\n",
              "      <td>21:00:08</td>\n",
              "    </tr>\n",
              "    <tr>\n",
              "      <th>2577</th>\n",
              "      <td>39.32883</td>\n",
              "      <td>-125.33071</td>\n",
              "      <td>2022-01-02</td>\n",
              "      <td>21:09:21</td>\n",
              "    </tr>\n",
              "    <tr>\n",
              "      <th>2578</th>\n",
              "      <td>39.36167</td>\n",
              "      <td>-125.33752</td>\n",
              "      <td>2022-01-02</td>\n",
              "      <td>21:17:15</td>\n",
              "    </tr>\n",
              "    <tr>\n",
              "      <th>2579</th>\n",
              "      <td>39.39241</td>\n",
              "      <td>-125.34451</td>\n",
              "      <td>2022-01-02</td>\n",
              "      <td>21:24:44</td>\n",
              "    </tr>\n",
              "  </tbody>\n",
              "</table>\n",
              "<p>2580 rows × 4 columns</p>\n",
              "</div>"
            ],
            "text/plain": [
              "           LAT        LON        Date      Time\n",
              "0     33.77469 -118.21549  2022-01-01  00:00:09\n",
              "1     33.77469 -118.21549  2022-01-01  00:03:04\n",
              "2     33.77470 -118.21548  2022-01-01  00:06:04\n",
              "3     33.77471 -118.21547  2022-01-01  00:09:07\n",
              "4     33.77465 -118.21547  2022-01-01  00:15:08\n",
              "...        ...        ...         ...       ...\n",
              "2575  39.27698 -125.31910  2022-01-02  20:56:51\n",
              "2576  39.29049 -125.32236  2022-01-02  21:00:08\n",
              "2577  39.32883 -125.33071  2022-01-02  21:09:21\n",
              "2578  39.36167 -125.33752  2022-01-02  21:17:15\n",
              "2579  39.39241 -125.34451  2022-01-02  21:24:44\n",
              "\n",
              "[2580 rows x 4 columns]"
            ]
          },
          "execution_count": 516,
          "metadata": {},
          "output_type": "execute_result"
        }
      ],
      "source": [
        "df_80_1_lola.head(-20)"
      ]
    },
    {
      "cell_type": "code",
      "execution_count": null,
      "id": "c7813560",
      "metadata": {
        "id": "c7813560",
        "outputId": "ed85ae00-f529-4465-d6e5-c2a51941a3e0"
      },
      "outputs": [
        {
          "data": {
            "text/html": [
              "<div>\n",
              "<style scoped>\n",
              "    .dataframe tbody tr th:only-of-type {\n",
              "        vertical-align: middle;\n",
              "    }\n",
              "\n",
              "    .dataframe tbody tr th {\n",
              "        vertical-align: top;\n",
              "    }\n",
              "\n",
              "    .dataframe thead th {\n",
              "        text-align: right;\n",
              "    }\n",
              "</style>\n",
              "<table border=\"1\" class=\"dataframe\">\n",
              "  <thead>\n",
              "    <tr style=\"text-align: right;\">\n",
              "      <th></th>\n",
              "      <th>LAT</th>\n",
              "      <th>LON</th>\n",
              "      <th>Date</th>\n",
              "      <th>Time</th>\n",
              "    </tr>\n",
              "  </thead>\n",
              "  <tbody>\n",
              "    <tr>\n",
              "      <th>0</th>\n",
              "      <td>33.77469</td>\n",
              "      <td>-118.21549</td>\n",
              "      <td>2022-01-01</td>\n",
              "      <td>00:00:09</td>\n",
              "    </tr>\n",
              "    <tr>\n",
              "      <th>1</th>\n",
              "      <td>33.77469</td>\n",
              "      <td>-118.21549</td>\n",
              "      <td>2022-01-01</td>\n",
              "      <td>00:03:04</td>\n",
              "    </tr>\n",
              "    <tr>\n",
              "      <th>2</th>\n",
              "      <td>33.77470</td>\n",
              "      <td>-118.21548</td>\n",
              "      <td>2022-01-01</td>\n",
              "      <td>00:06:04</td>\n",
              "    </tr>\n",
              "    <tr>\n",
              "      <th>3</th>\n",
              "      <td>33.77471</td>\n",
              "      <td>-118.21547</td>\n",
              "      <td>2022-01-01</td>\n",
              "      <td>00:09:07</td>\n",
              "    </tr>\n",
              "    <tr>\n",
              "      <th>4</th>\n",
              "      <td>33.77465</td>\n",
              "      <td>-118.21547</td>\n",
              "      <td>2022-01-01</td>\n",
              "      <td>00:15:08</td>\n",
              "    </tr>\n",
              "    <tr>\n",
              "      <th>...</th>\n",
              "      <td>...</td>\n",
              "      <td>...</td>\n",
              "      <td>...</td>\n",
              "      <td>...</td>\n",
              "    </tr>\n",
              "    <tr>\n",
              "      <th>1268</th>\n",
              "      <td>34.67498</td>\n",
              "      <td>-122.32642</td>\n",
              "      <td>2022-01-01</td>\n",
              "      <td>22:09:53</td>\n",
              "    </tr>\n",
              "    <tr>\n",
              "      <th>1269</th>\n",
              "      <td>34.75556</td>\n",
              "      <td>-122.39711</td>\n",
              "      <td>2022-01-01</td>\n",
              "      <td>22:37:44</td>\n",
              "    </tr>\n",
              "    <tr>\n",
              "      <th>1270</th>\n",
              "      <td>34.79140</td>\n",
              "      <td>-122.42744</td>\n",
              "      <td>2022-01-01</td>\n",
              "      <td>22:49:54</td>\n",
              "    </tr>\n",
              "    <tr>\n",
              "      <th>1271</th>\n",
              "      <td>34.82731</td>\n",
              "      <td>-122.45910</td>\n",
              "      <td>2022-01-01</td>\n",
              "      <td>23:02:24</td>\n",
              "    </tr>\n",
              "    <tr>\n",
              "      <th>1272</th>\n",
              "      <td>34.87953</td>\n",
              "      <td>-122.50626</td>\n",
              "      <td>2022-01-01</td>\n",
              "      <td>23:20:44</td>\n",
              "    </tr>\n",
              "  </tbody>\n",
              "</table>\n",
              "<p>1273 rows × 4 columns</p>\n",
              "</div>"
            ],
            "text/plain": [
              "           LAT        LON        Date      Time\n",
              "0     33.77469 -118.21549  2022-01-01  00:00:09\n",
              "1     33.77469 -118.21549  2022-01-01  00:03:04\n",
              "2     33.77470 -118.21548  2022-01-01  00:06:04\n",
              "3     33.77471 -118.21547  2022-01-01  00:09:07\n",
              "4     33.77465 -118.21547  2022-01-01  00:15:08\n",
              "...        ...        ...         ...       ...\n",
              "1268  34.67498 -122.32642  2022-01-01  22:09:53\n",
              "1269  34.75556 -122.39711  2022-01-01  22:37:44\n",
              "1270  34.79140 -122.42744  2022-01-01  22:49:54\n",
              "1271  34.82731 -122.45910  2022-01-01  23:02:24\n",
              "1272  34.87953 -122.50626  2022-01-01  23:20:44\n",
              "\n",
              "[1273 rows x 4 columns]"
            ]
          },
          "execution_count": 517,
          "metadata": {},
          "output_type": "execute_result"
        }
      ],
      "source": [
        "df_80_1_lola_p1 = df_80_1_lola[df_80_1_lola['Date'] == '2022-01-01']\n",
        "df_80_1_lola_p1.head(-5)"
      ]
    },
    {
      "cell_type": "code",
      "execution_count": null,
      "id": "ec445e1e",
      "metadata": {
        "id": "ec445e1e",
        "outputId": "daf35c34-16b7-4d74-b1d8-36a21553368f"
      },
      "outputs": [
        {
          "data": {
            "text/plain": [
              "(1278, 4)"
            ]
          },
          "execution_count": 518,
          "metadata": {},
          "output_type": "execute_result"
        }
      ],
      "source": [
        "df_80_1_lola_p1.shape"
      ]
    },
    {
      "cell_type": "code",
      "execution_count": null,
      "id": "ea0a25a7",
      "metadata": {
        "id": "ea0a25a7"
      },
      "outputs": [],
      "source": [
        "df_80_1_lola_p1 = df_80_1_lola_p1.sort_values(by=\"Time\")"
      ]
    },
    {
      "cell_type": "code",
      "execution_count": null,
      "id": "1f22ee79",
      "metadata": {
        "id": "1f22ee79",
        "outputId": "6e7d8c30-8846-4458-b5fb-8ad364bd9ac0"
      },
      "outputs": [
        {
          "data": {
            "text/html": [
              "<div>\n",
              "<style scoped>\n",
              "    .dataframe tbody tr th:only-of-type {\n",
              "        vertical-align: middle;\n",
              "    }\n",
              "\n",
              "    .dataframe tbody tr th {\n",
              "        vertical-align: top;\n",
              "    }\n",
              "\n",
              "    .dataframe thead th {\n",
              "        text-align: right;\n",
              "    }\n",
              "</style>\n",
              "<table border=\"1\" class=\"dataframe\">\n",
              "  <thead>\n",
              "    <tr style=\"text-align: right;\">\n",
              "      <th></th>\n",
              "      <th>LAT</th>\n",
              "      <th>LON</th>\n",
              "      <th>Date</th>\n",
              "      <th>Time</th>\n",
              "    </tr>\n",
              "  </thead>\n",
              "  <tbody>\n",
              "    <tr>\n",
              "      <th>0</th>\n",
              "      <td>33.77469</td>\n",
              "      <td>-118.21549</td>\n",
              "      <td>2022-01-01</td>\n",
              "      <td>00:00:09</td>\n",
              "    </tr>\n",
              "    <tr>\n",
              "      <th>1</th>\n",
              "      <td>33.77469</td>\n",
              "      <td>-118.21549</td>\n",
              "      <td>2022-01-01</td>\n",
              "      <td>00:03:04</td>\n",
              "    </tr>\n",
              "    <tr>\n",
              "      <th>2</th>\n",
              "      <td>33.77470</td>\n",
              "      <td>-118.21548</td>\n",
              "      <td>2022-01-01</td>\n",
              "      <td>00:06:04</td>\n",
              "    </tr>\n",
              "    <tr>\n",
              "      <th>3</th>\n",
              "      <td>33.77471</td>\n",
              "      <td>-118.21547</td>\n",
              "      <td>2022-01-01</td>\n",
              "      <td>00:09:07</td>\n",
              "    </tr>\n",
              "    <tr>\n",
              "      <th>5</th>\n",
              "      <td>33.77470</td>\n",
              "      <td>-118.21546</td>\n",
              "      <td>2022-01-01</td>\n",
              "      <td>00:12:06</td>\n",
              "    </tr>\n",
              "    <tr>\n",
              "      <th>4</th>\n",
              "      <td>33.77465</td>\n",
              "      <td>-118.21547</td>\n",
              "      <td>2022-01-01</td>\n",
              "      <td>00:15:08</td>\n",
              "    </tr>\n",
              "    <tr>\n",
              "      <th>6</th>\n",
              "      <td>33.77468</td>\n",
              "      <td>-118.21547</td>\n",
              "      <td>2022-01-01</td>\n",
              "      <td>00:18:06</td>\n",
              "    </tr>\n",
              "    <tr>\n",
              "      <th>7</th>\n",
              "      <td>33.77467</td>\n",
              "      <td>-118.21546</td>\n",
              "      <td>2022-01-01</td>\n",
              "      <td>00:21:07</td>\n",
              "    </tr>\n",
              "    <tr>\n",
              "      <th>8</th>\n",
              "      <td>33.77468</td>\n",
              "      <td>-118.21544</td>\n",
              "      <td>2022-01-01</td>\n",
              "      <td>00:24:06</td>\n",
              "    </tr>\n",
              "    <tr>\n",
              "      <th>10</th>\n",
              "      <td>33.77474</td>\n",
              "      <td>-118.21543</td>\n",
              "      <td>2022-01-01</td>\n",
              "      <td>00:27:06</td>\n",
              "    </tr>\n",
              "  </tbody>\n",
              "</table>\n",
              "</div>"
            ],
            "text/plain": [
              "         LAT        LON        Date      Time\n",
              "0   33.77469 -118.21549  2022-01-01  00:00:09\n",
              "1   33.77469 -118.21549  2022-01-01  00:03:04\n",
              "2   33.77470 -118.21548  2022-01-01  00:06:04\n",
              "3   33.77471 -118.21547  2022-01-01  00:09:07\n",
              "5   33.77470 -118.21546  2022-01-01  00:12:06\n",
              "4   33.77465 -118.21547  2022-01-01  00:15:08\n",
              "6   33.77468 -118.21547  2022-01-01  00:18:06\n",
              "7   33.77467 -118.21546  2022-01-01  00:21:07\n",
              "8   33.77468 -118.21544  2022-01-01  00:24:06\n",
              "10  33.77474 -118.21543  2022-01-01  00:27:06"
            ]
          },
          "execution_count": 520,
          "metadata": {},
          "output_type": "execute_result"
        }
      ],
      "source": [
        "df_80_1_lola_p2 = df_80_1_lola[df_80_1_lola['Date'] == '2022-01-02']\n",
        "df_80_1_lola_p2 = df_80_1_lola_p1.sort_values(by=\"Time\")\n",
        "df_80_1_lola_p2.head(10)"
      ]
    },
    {
      "cell_type": "code",
      "execution_count": null,
      "id": "2dded1be",
      "metadata": {
        "id": "2dded1be",
        "outputId": "0e6f65ee-f833-47cb-da8b-005545ed7015"
      },
      "outputs": [
        {
          "data": {
            "text/html": [
              "<div>\n",
              "<style scoped>\n",
              "    .dataframe tbody tr th:only-of-type {\n",
              "        vertical-align: middle;\n",
              "    }\n",
              "\n",
              "    .dataframe tbody tr th {\n",
              "        vertical-align: top;\n",
              "    }\n",
              "\n",
              "    .dataframe thead th {\n",
              "        text-align: right;\n",
              "    }\n",
              "</style>\n",
              "<table border=\"1\" class=\"dataframe\">\n",
              "  <thead>\n",
              "    <tr style=\"text-align: right;\">\n",
              "      <th></th>\n",
              "      <th>LAT</th>\n",
              "      <th>LON</th>\n",
              "      <th>Date</th>\n",
              "      <th>Time</th>\n",
              "    </tr>\n",
              "  </thead>\n",
              "  <tbody>\n",
              "    <tr>\n",
              "      <th>0</th>\n",
              "      <td>33.77469</td>\n",
              "      <td>-118.21549</td>\n",
              "      <td>2022-01-01</td>\n",
              "      <td>00:00:09</td>\n",
              "    </tr>\n",
              "    <tr>\n",
              "      <th>1</th>\n",
              "      <td>33.77469</td>\n",
              "      <td>-118.21549</td>\n",
              "      <td>2022-01-01</td>\n",
              "      <td>00:03:04</td>\n",
              "    </tr>\n",
              "    <tr>\n",
              "      <th>2</th>\n",
              "      <td>33.77470</td>\n",
              "      <td>-118.21548</td>\n",
              "      <td>2022-01-01</td>\n",
              "      <td>00:06:04</td>\n",
              "    </tr>\n",
              "    <tr>\n",
              "      <th>3</th>\n",
              "      <td>33.77471</td>\n",
              "      <td>-118.21547</td>\n",
              "      <td>2022-01-01</td>\n",
              "      <td>00:09:07</td>\n",
              "    </tr>\n",
              "    <tr>\n",
              "      <th>5</th>\n",
              "      <td>33.77470</td>\n",
              "      <td>-118.21546</td>\n",
              "      <td>2022-01-01</td>\n",
              "      <td>00:12:06</td>\n",
              "    </tr>\n",
              "    <tr>\n",
              "      <th>4</th>\n",
              "      <td>33.77465</td>\n",
              "      <td>-118.21547</td>\n",
              "      <td>2022-01-01</td>\n",
              "      <td>00:15:08</td>\n",
              "    </tr>\n",
              "    <tr>\n",
              "      <th>6</th>\n",
              "      <td>33.77468</td>\n",
              "      <td>-118.21547</td>\n",
              "      <td>2022-01-01</td>\n",
              "      <td>00:18:06</td>\n",
              "    </tr>\n",
              "    <tr>\n",
              "      <th>7</th>\n",
              "      <td>33.77467</td>\n",
              "      <td>-118.21546</td>\n",
              "      <td>2022-01-01</td>\n",
              "      <td>00:21:07</td>\n",
              "    </tr>\n",
              "    <tr>\n",
              "      <th>8</th>\n",
              "      <td>33.77468</td>\n",
              "      <td>-118.21544</td>\n",
              "      <td>2022-01-01</td>\n",
              "      <td>00:24:06</td>\n",
              "    </tr>\n",
              "    <tr>\n",
              "      <th>10</th>\n",
              "      <td>33.77474</td>\n",
              "      <td>-118.21543</td>\n",
              "      <td>2022-01-01</td>\n",
              "      <td>00:27:06</td>\n",
              "    </tr>\n",
              "  </tbody>\n",
              "</table>\n",
              "</div>"
            ],
            "text/plain": [
              "         LAT        LON        Date      Time\n",
              "0   33.77469 -118.21549  2022-01-01  00:00:09\n",
              "1   33.77469 -118.21549  2022-01-01  00:03:04\n",
              "2   33.77470 -118.21548  2022-01-01  00:06:04\n",
              "3   33.77471 -118.21547  2022-01-01  00:09:07\n",
              "5   33.77470 -118.21546  2022-01-01  00:12:06\n",
              "4   33.77465 -118.21547  2022-01-01  00:15:08\n",
              "6   33.77468 -118.21547  2022-01-01  00:18:06\n",
              "7   33.77467 -118.21546  2022-01-01  00:21:07\n",
              "8   33.77468 -118.21544  2022-01-01  00:24:06\n",
              "10  33.77474 -118.21543  2022-01-01  00:27:06"
            ]
          },
          "execution_count": 521,
          "metadata": {},
          "output_type": "execute_result"
        }
      ],
      "source": [
        "df_80_1_lola = pd.concat([df_80_1_lola_p1, df_80_1_lola_p2])\n",
        "df_80_1_lola.head(10)"
      ]
    },
    {
      "cell_type": "code",
      "execution_count": null,
      "id": "f4af66c7",
      "metadata": {
        "id": "f4af66c7",
        "outputId": "8add535e-7ba2-4cbc-a629-dd4a50377318"
      },
      "outputs": [
        {
          "data": {
            "text/html": [
              "<div>\n",
              "<style scoped>\n",
              "    .dataframe tbody tr th:only-of-type {\n",
              "        vertical-align: middle;\n",
              "    }\n",
              "\n",
              "    .dataframe tbody tr th {\n",
              "        vertical-align: top;\n",
              "    }\n",
              "\n",
              "    .dataframe thead th {\n",
              "        text-align: right;\n",
              "    }\n",
              "</style>\n",
              "<table border=\"1\" class=\"dataframe\">\n",
              "  <thead>\n",
              "    <tr style=\"text-align: right;\">\n",
              "      <th></th>\n",
              "      <th>LAT</th>\n",
              "      <th>LON</th>\n",
              "      <th>Date</th>\n",
              "      <th>Time</th>\n",
              "    </tr>\n",
              "  </thead>\n",
              "  <tbody>\n",
              "    <tr>\n",
              "      <th>0</th>\n",
              "      <td>33.77469</td>\n",
              "      <td>-118.21549</td>\n",
              "      <td>2022-01-01</td>\n",
              "      <td>00:00:09</td>\n",
              "    </tr>\n",
              "    <tr>\n",
              "      <th>1</th>\n",
              "      <td>33.77469</td>\n",
              "      <td>-118.21549</td>\n",
              "      <td>2022-01-01</td>\n",
              "      <td>00:03:04</td>\n",
              "    </tr>\n",
              "    <tr>\n",
              "      <th>2</th>\n",
              "      <td>33.77470</td>\n",
              "      <td>-118.21548</td>\n",
              "      <td>2022-01-01</td>\n",
              "      <td>00:06:04</td>\n",
              "    </tr>\n",
              "    <tr>\n",
              "      <th>3</th>\n",
              "      <td>33.77471</td>\n",
              "      <td>-118.21547</td>\n",
              "      <td>2022-01-01</td>\n",
              "      <td>00:09:07</td>\n",
              "    </tr>\n",
              "    <tr>\n",
              "      <th>5</th>\n",
              "      <td>33.77470</td>\n",
              "      <td>-118.21546</td>\n",
              "      <td>2022-01-01</td>\n",
              "      <td>00:12:06</td>\n",
              "    </tr>\n",
              "    <tr>\n",
              "      <th>...</th>\n",
              "      <td>...</td>\n",
              "      <td>...</td>\n",
              "      <td>...</td>\n",
              "      <td>...</td>\n",
              "    </tr>\n",
              "    <tr>\n",
              "      <th>1172</th>\n",
              "      <td>34.94604</td>\n",
              "      <td>-122.56482</td>\n",
              "      <td>2022-01-01</td>\n",
              "      <td>23:43:52</td>\n",
              "    </tr>\n",
              "    <tr>\n",
              "      <th>1160</th>\n",
              "      <td>34.94902</td>\n",
              "      <td>-122.56754</td>\n",
              "      <td>2022-01-01</td>\n",
              "      <td>23:44:54</td>\n",
              "    </tr>\n",
              "    <tr>\n",
              "      <th>1181</th>\n",
              "      <td>34.95239</td>\n",
              "      <td>-122.57060</td>\n",
              "      <td>2022-01-01</td>\n",
              "      <td>23:46:04</td>\n",
              "    </tr>\n",
              "    <tr>\n",
              "      <th>1166</th>\n",
              "      <td>34.95537</td>\n",
              "      <td>-122.57325</td>\n",
              "      <td>2022-01-01</td>\n",
              "      <td>23:47:05</td>\n",
              "    </tr>\n",
              "    <tr>\n",
              "      <th>1120</th>\n",
              "      <td>34.95867</td>\n",
              "      <td>-122.57617</td>\n",
              "      <td>2022-01-01</td>\n",
              "      <td>23:48:12</td>\n",
              "    </tr>\n",
              "  </tbody>\n",
              "</table>\n",
              "<p>2546 rows × 4 columns</p>\n",
              "</div>"
            ],
            "text/plain": [
              "           LAT        LON        Date      Time\n",
              "0     33.77469 -118.21549  2022-01-01  00:00:09\n",
              "1     33.77469 -118.21549  2022-01-01  00:03:04\n",
              "2     33.77470 -118.21548  2022-01-01  00:06:04\n",
              "3     33.77471 -118.21547  2022-01-01  00:09:07\n",
              "5     33.77470 -118.21546  2022-01-01  00:12:06\n",
              "...        ...        ...         ...       ...\n",
              "1172  34.94604 -122.56482  2022-01-01  23:43:52\n",
              "1160  34.94902 -122.56754  2022-01-01  23:44:54\n",
              "1181  34.95239 -122.57060  2022-01-01  23:46:04\n",
              "1166  34.95537 -122.57325  2022-01-01  23:47:05\n",
              "1120  34.95867 -122.57617  2022-01-01  23:48:12\n",
              "\n",
              "[2546 rows x 4 columns]"
            ]
          },
          "execution_count": 522,
          "metadata": {},
          "output_type": "execute_result"
        }
      ],
      "source": [
        "df_80_1_lola.head(-10)"
      ]
    },
    {
      "cell_type": "code",
      "execution_count": null,
      "id": "19142c62",
      "metadata": {
        "id": "19142c62",
        "outputId": "1d482c88-e8f6-4a9d-dec9-b926458a6448"
      },
      "outputs": [
        {
          "data": {
            "text/plain": [
              "(2556, 4)"
            ]
          },
          "execution_count": 523,
          "metadata": {},
          "output_type": "execute_result"
        }
      ],
      "source": [
        "df_80_1_lola.shape"
      ]
    },
    {
      "cell_type": "code",
      "execution_count": null,
      "id": "fe160fee",
      "metadata": {
        "id": "fe160fee",
        "outputId": "740786ca-4718-4a78-8384-5f672ead6b13"
      },
      "outputs": [
        {
          "data": {
            "text/plain": [
              "(1278, 4)"
            ]
          },
          "execution_count": 524,
          "metadata": {},
          "output_type": "execute_result"
        }
      ],
      "source": [
        "df_80_1_lola_p1.shape"
      ]
    },
    {
      "cell_type": "code",
      "execution_count": null,
      "id": "687742ca",
      "metadata": {
        "id": "687742ca",
        "outputId": "30481598-40ba-4497-a99c-78b4a70f6827"
      },
      "outputs": [
        {
          "data": {
            "text/plain": [
              "(1278, 4)"
            ]
          },
          "execution_count": 525,
          "metadata": {},
          "output_type": "execute_result"
        }
      ],
      "source": [
        "df_80_1_lola_p2.shape"
      ]
    },
    {
      "cell_type": "code",
      "execution_count": null,
      "id": "5ef5db67",
      "metadata": {
        "id": "5ef5db67",
        "outputId": "488baefd-61a4-4eb2-c755-48cbe8071039"
      },
      "outputs": [
        {
          "data": {
            "image/png": "[encoded data removed]",
            "text/plain": [
              "<Figure size 432x288 with 1 Axes>"
            ]
          },
          "metadata": {
            "needs_background": "light"
          },
          "output_type": "display_data"
        }
      ],
      "source": [
        "import matplotlib.pyplot as plt\n",
        "%matplotlib inline\n",
        "plt.plot(df_80_1_lola_p1.LON, df_80_1_lola_p1.LAT)\n",
        "plt.xlabel('LONGITUDE')\n",
        "plt.ylabel('LATITUDE')\n",
        "plt.title('trajectory_df_80_1_lola')\n",
        "plt.show()"
      ]
    },
    {
      "cell_type": "code",
      "execution_count": null,
      "id": "0198991c",
      "metadata": {
        "id": "0198991c"
      },
      "outputs": [],
      "source": [
        "from statsmodels.graphics.tsaplots import plot_acf, plot_pacf\n",
        "from statsmodels.tsa.statespace.varmax import VARMAX\n",
        "from statsmodels.tsa.api import VAR\n",
        "from statsmodels.tsa.stattools import grangercausalitytests, adfuller\n",
        "from tqdm import tqdm_notebook\n",
        "from itertools import product\n",
        "\n",
        "import matplotlib.pyplot as plt\n",
        "import statsmodels.api as sm\n",
        "import pandas as pd\n",
        "import numpy as np\n",
        "\n",
        "import warnings\n",
        "warnings.filterwarnings('ignore')"
      ]
    },
    {
      "cell_type": "code",
      "execution_count": null,
      "id": "eaf2820a",
      "metadata": {
        "id": "eaf2820a",
        "outputId": "9a465822-a64b-4456-80e8-06a0dd9b3096"
      },
      "outputs": [
        {
          "data": {
            "text/plain": [
              "['LAT', 'LON']"
            ]
          },
          "execution_count": 528,
          "metadata": {},
          "output_type": "execute_result"
        }
      ],
      "source": [
        "cols = list(df_80_1_lola_p1)[:2]\n",
        "cols"
      ]
    },
    {
      "cell_type": "code",
      "execution_count": null,
      "id": "296a8297",
      "metadata": {
        "id": "296a8297"
      },
      "outputs": [],
      "source": [
        "df_for_training = df_80_1_lola_p1[cols].astype(float)"
      ]
    },
    {
      "cell_type": "code",
      "execution_count": null,
      "id": "62e4d56f",
      "metadata": {
        "id": "62e4d56f",
        "outputId": "eb23816e-b3a0-4f56-ae71-9698d3d64c44"
      },
      "outputs": [
        {
          "data": {
            "text/plain": [
              "(1278, 2)"
            ]
          },
          "execution_count": 530,
          "metadata": {},
          "output_type": "execute_result"
        }
      ],
      "source": [
        "df_for_training.shape"
      ]
    },
    {
      "cell_type": "code",
      "execution_count": null,
      "id": "991bed70",
      "metadata": {
        "id": "991bed70"
      },
      "outputs": [],
      "source": [
        "train_df=df_for_training[:-900]\n",
        "test_df=df_for_training[-900:]"
      ]
    },
    {
      "cell_type": "code",
      "execution_count": null,
      "id": "e898300b",
      "metadata": {
        "id": "e898300b",
        "outputId": "ec6d5f49-ccf4-4fc4-dc32-be3ce0df2786"
      },
      "outputs": [
        {
          "data": {
            "text/html": [
              "<div>\n",
              "<style scoped>\n",
              "    .dataframe tbody tr th:only-of-type {\n",
              "        vertical-align: middle;\n",
              "    }\n",
              "\n",
              "    .dataframe tbody tr th {\n",
              "        vertical-align: top;\n",
              "    }\n",
              "\n",
              "    .dataframe thead th {\n",
              "        text-align: right;\n",
              "    }\n",
              "</style>\n",
              "<table border=\"1\" class=\"dataframe\">\n",
              "  <thead>\n",
              "    <tr style=\"text-align: right;\">\n",
              "      <th></th>\n",
              "      <th>LAT</th>\n",
              "      <th>LON</th>\n",
              "    </tr>\n",
              "  </thead>\n",
              "  <tbody>\n",
              "    <tr>\n",
              "      <th>877</th>\n",
              "      <td>33.64751</td>\n",
              "      <td>-119.36171</td>\n",
              "    </tr>\n",
              "    <tr>\n",
              "      <th>881</th>\n",
              "      <td>33.64731</td>\n",
              "      <td>-119.36644</td>\n",
              "    </tr>\n",
              "    <tr>\n",
              "      <th>352</th>\n",
              "      <td>33.64708</td>\n",
              "      <td>-119.37135</td>\n",
              "    </tr>\n",
              "    <tr>\n",
              "      <th>885</th>\n",
              "      <td>33.64684</td>\n",
              "      <td>-119.37621</td>\n",
              "    </tr>\n",
              "    <tr>\n",
              "      <th>377</th>\n",
              "      <td>33.64661</td>\n",
              "      <td>-119.38120</td>\n",
              "    </tr>\n",
              "  </tbody>\n",
              "</table>\n",
              "</div>"
            ],
            "text/plain": [
              "          LAT        LON\n",
              "877  33.64751 -119.36171\n",
              "881  33.64731 -119.36644\n",
              "352  33.64708 -119.37135\n",
              "885  33.64684 -119.37621\n",
              "377  33.64661 -119.38120"
            ]
          },
          "execution_count": 532,
          "metadata": {},
          "output_type": "execute_result"
        }
      ],
      "source": [
        "test_df.head()"
      ]
    },
    {
      "cell_type": "code",
      "execution_count": null,
      "id": "d74acb67",
      "metadata": {
        "id": "d74acb67",
        "outputId": "d31fe152-b420-4778-9ac8-f7833bf72e9f"
      },
      "outputs": [
        {
          "data": {
            "image/png": "[encoded data removed]",
            "text/plain": [
              "<Figure size 432x288 with 1 Axes>"
            ]
          },
          "metadata": {
            "needs_background": "light"
          },
          "output_type": "display_data"
        }
      ],
      "source": [
        "import matplotlib.pyplot as plt\n",
        "%matplotlib inline\n",
        "plt.plot(train_df.LON, train_df.LAT)\n",
        "plt.xlabel('LONGITUDE')\n",
        "plt.ylabel('LATITUDE')\n",
        "plt.show()"
      ]
    },
    {
      "cell_type": "code",
      "execution_count": null,
      "id": "29ba361d",
      "metadata": {
        "id": "29ba361d",
        "outputId": "709785a0-4a2e-46a5-edd5-c7458ef166f8"
      },
      "outputs": [
        {
          "data": {
            "image/png": "[encoded data removed]",
            "text/plain": [
              "<Figure size 432x288 with 1 Axes>"
            ]
          },
          "metadata": {
            "needs_background": "light"
          },
          "output_type": "display_data"
        }
      ],
      "source": [
        "import matplotlib.pyplot as plt\n",
        "%matplotlib inline\n",
        "plt.plot(test_df.LON, test_df.LAT)\n",
        "plt.xlabel('LONGITUDE')\n",
        "plt.ylabel('LATITUDE')\n",
        "plt.show()"
      ]
    },
    {
      "cell_type": "code",
      "execution_count": null,
      "id": "057f6ad7",
      "metadata": {
        "id": "057f6ad7",
        "outputId": "de72ac9f-5848-484b-cc04-21240d7b2185"
      },
      "outputs": [
        {
          "name": "stdout",
          "output_type": "stream",
          "text": [
            "                           Statespace Model Results                           \n",
            "==============================================================================\n",
            "Dep. Variable:         ['LAT', 'LON']   No. Observations:                  378\n",
            "Model:                         VAR(4)   Log Likelihood                 446.256\n",
            "                          + intercept   AIC                           -850.513\n",
            "Date:                Thu, 26 Jan 2023   BIC                           -767.880\n",
            "Time:                        17:23:00   HQIC                          -817.717\n",
            "Sample:                             0                                         \n",
            "                                - 378                                         \n",
            "Covariance Type:                  opg                                         \n",
            "===================================================================================\n",
            "Ljung-Box (L1) (Q):         377.00, 375.89   Jarque-Bera (JB):         87.46, 36.55\n",
            "Prob(Q):                        0.00, 0.00   Prob(JB):                   0.00, 0.00\n",
            "Heteroskedasticity (H):         0.17, 2.25   Skew:                      1.15, -0.62\n",
            "Prob(H) (two-sided):            0.00, 0.00   Kurtosis:                   2.53, 2.10\n",
            "                           Results for equation LAT                           \n",
            "==============================================================================\n",
            "                 coef    std err          z      P>|z|      [0.025      0.975]\n",
            "------------------------------------------------------------------------------\n",
            "intercept     33.6716      2.456     13.708      0.000      28.857      38.486\n",
            "L1.LAT        -0.0029      7.796     -0.000      1.000     -15.283      15.278\n",
            "L1.LON        -0.0008      2.264     -0.000      1.000      -4.437       4.436\n",
            "L2.LAT        -0.0029     12.573     -0.000      1.000     -24.646      24.640\n",
            "L2.LON        -0.0008      3.641     -0.000      1.000      -7.137       7.135\n",
            "L3.LAT        -0.0028     12.865     -0.000      1.000     -25.218      25.212\n",
            "L3.LON        -0.0008      3.680     -0.000      1.000      -7.214       7.212\n",
            "L4.LAT        -0.0028      8.138     -0.000      1.000     -15.954      15.948\n",
            "L4.LON        -0.0008      2.394     -0.000      1.000      -4.692       4.691\n",
            "                           Results for equation LON                           \n",
            "==============================================================================\n",
            "                 coef    std err          z      P>|z|      [0.025      0.975]\n",
            "------------------------------------------------------------------------------\n",
            "intercept   -118.6022      1.150   -103.119      0.000    -120.856    -116.348\n",
            "L1.LAT        -0.0017     51.742  -3.31e-05      1.000    -101.414     101.410\n",
            "L1.LON     -9.399e-05     17.592  -5.34e-06      1.000     -34.479      34.479\n",
            "L2.LAT        -0.0013     77.283  -1.71e-05      1.000    -151.473     151.471\n",
            "L2.LON        -0.0002     22.640  -1.05e-05      1.000     -44.374      44.374\n",
            "L3.LAT        -0.0009     77.131  -1.19e-05      1.000    -151.176     151.174\n",
            "L3.LON        -0.0004     22.444  -1.71e-05      1.000     -43.990      43.989\n",
            "L4.LAT        -0.0005     49.624  -1.03e-05      1.000     -97.262      97.261\n",
            "L4.LON        -0.0005     17.230  -3.07e-05      1.000     -33.771      33.770\n",
            "                              Error covariance matrix                               \n",
            "====================================================================================\n",
            "                       coef    std err          z      P>|z|      [0.025      0.975]\n",
            "------------------------------------------------------------------------------------\n",
            "sqrt.var.LAT         0.0509      0.017      3.001      0.003       0.018       0.084\n",
            "sqrt.cov.LAT.LON     0.0854      0.185      0.461      0.645      -0.278       0.448\n",
            "sqrt.var.LON         0.3315      0.121      2.739      0.006       0.094       0.569\n",
            "====================================================================================\n",
            "\n",
            "Warnings:\n",
            "[1] Covariance matrix calculated using the outer product of gradients (complex-step).\n",
            "[2] Covariance matrix is singular or near-singular, with condition number 1.06e+18. Standard errors may be unstable.\n"
          ]
        }
      ],
      "source": [
        "model = VAR(train_df.diff()[1:])\n",
        "var_model = VARMAX(train_df, order=(4,0), enforce_stationarity= True)\n",
        "fitted_model = var_model.fit(disp=False)\n",
        "print(fitted_model.summary())"
      ]
    },
    {
      "cell_type": "code",
      "execution_count": null,
      "id": "b7ea4c53",
      "metadata": {
        "id": "b7ea4c53"
      },
      "outputs": [],
      "source": [
        "n_forecast = 900\n",
        "predict = fitted_model.get_prediction(start=len(train_df),end=len(train_df) + n_forecast-1)\n",
        "predictions=predict.predicted_mean"
      ]
    },
    {
      "cell_type": "code",
      "execution_count": null,
      "id": "6ba74f84",
      "metadata": {
        "id": "6ba74f84",
        "outputId": "bb4cba46-487b-4838-826b-ae5c21e681fe"
      },
      "outputs": [
        {
          "data": {
            "text/html": [
              "<div>\n",
              "<style scoped>\n",
              "    .dataframe tbody tr th:only-of-type {\n",
              "        vertical-align: middle;\n",
              "    }\n",
              "\n",
              "    .dataframe tbody tr th {\n",
              "        vertical-align: top;\n",
              "    }\n",
              "\n",
              "    .dataframe thead th {\n",
              "        text-align: right;\n",
              "    }\n",
              "</style>\n",
              "<table border=\"1\" class=\"dataframe\">\n",
              "  <thead>\n",
              "    <tr style=\"text-align: right;\">\n",
              "      <th></th>\n",
              "      <th>LAT_predicted</th>\n",
              "      <th>LON_predicted</th>\n",
              "    </tr>\n",
              "  </thead>\n",
              "  <tbody>\n",
              "    <tr>\n",
              "      <th>378</th>\n",
              "      <td>33.674674</td>\n",
              "      <td>-118.603793</td>\n",
              "    </tr>\n",
              "    <tr>\n",
              "      <th>379</th>\n",
              "      <td>33.674010</td>\n",
              "      <td>-118.603904</td>\n",
              "    </tr>\n",
              "    <tr>\n",
              "      <th>380</th>\n",
              "      <td>33.673336</td>\n",
              "      <td>-118.604113</td>\n",
              "    </tr>\n",
              "    <tr>\n",
              "      <th>381</th>\n",
              "      <td>33.672653</td>\n",
              "      <td>-118.604421</td>\n",
              "    </tr>\n",
              "    <tr>\n",
              "      <th>382</th>\n",
              "      <td>33.671961</td>\n",
              "      <td>-118.604830</td>\n",
              "    </tr>\n",
              "    <tr>\n",
              "      <th>...</th>\n",
              "      <td>...</td>\n",
              "      <td>...</td>\n",
              "    </tr>\n",
              "    <tr>\n",
              "      <th>1273</th>\n",
              "      <td>33.671982</td>\n",
              "      <td>-118.604823</td>\n",
              "    </tr>\n",
              "    <tr>\n",
              "      <th>1274</th>\n",
              "      <td>33.671982</td>\n",
              "      <td>-118.604823</td>\n",
              "    </tr>\n",
              "    <tr>\n",
              "      <th>1275</th>\n",
              "      <td>33.671982</td>\n",
              "      <td>-118.604823</td>\n",
              "    </tr>\n",
              "    <tr>\n",
              "      <th>1276</th>\n",
              "      <td>33.671982</td>\n",
              "      <td>-118.604823</td>\n",
              "    </tr>\n",
              "    <tr>\n",
              "      <th>1277</th>\n",
              "      <td>33.671982</td>\n",
              "      <td>-118.604823</td>\n",
              "    </tr>\n",
              "  </tbody>\n",
              "</table>\n",
              "<p>900 rows × 2 columns</p>\n",
              "</div>"
            ],
            "text/plain": [
              "      LAT_predicted  LON_predicted\n",
              "378       33.674674    -118.603793\n",
              "379       33.674010    -118.603904\n",
              "380       33.673336    -118.604113\n",
              "381       33.672653    -118.604421\n",
              "382       33.671961    -118.604830\n",
              "...             ...            ...\n",
              "1273      33.671982    -118.604823\n",
              "1274      33.671982    -118.604823\n",
              "1275      33.671982    -118.604823\n",
              "1276      33.671982    -118.604823\n",
              "1277      33.671982    -118.604823\n",
              "\n",
              "[900 rows x 2 columns]"
            ]
          },
          "execution_count": 550,
          "metadata": {},
          "output_type": "execute_result"
        }
      ],
      "source": [
        "predictions.columns=['LAT_predicted','LON_predicted']\n",
        "predictions"
      ]
    },
    {
      "cell_type": "code",
      "execution_count": null,
      "id": "171bdb65",
      "metadata": {
        "id": "171bdb65"
      },
      "outputs": [],
      "source": [
        "test_vs_pred=pd.concat([test_df,predictions],axis=1)"
      ]
    },
    {
      "cell_type": "code",
      "execution_count": null,
      "id": "912dbfc7",
      "metadata": {
        "id": "912dbfc7",
        "outputId": "1fe00f44-97d1-40d0-ecfa-941a6e6a7ddf"
      },
      "outputs": [
        {
          "data": {
            "text/plain": [
              "<AxesSubplot:>"
            ]
          },
          "execution_count": 552,
          "metadata": {},
          "output_type": "execute_result"
        },
        {
          "data": {
            "image/png": "[encoded data removed]",
            "text/plain": [
              "<Figure size 1440x720 with 1 Axes>"
            ]
          },
          "metadata": {
            "needs_background": "light"
          },
          "output_type": "display_data"
        }
      ],
      "source": [
        "test_vs_pred.plot(figsize=(20,10))"
      ]
    },
    {
      "cell_type": "code",
      "execution_count": null,
      "id": "b67d4032",
      "metadata": {
        "id": "b67d4032",
        "outputId": "d72c8de6-ee15-4d6f-f924-ad1fc1955e59"
      },
      "outputs": [
        {
          "data": {
            "text/plain": [
              "Index(['LAT', 'LON', 'LAT_predicted', 'LON_predicted'], dtype='object')"
            ]
          },
          "execution_count": 553,
          "metadata": {},
          "output_type": "execute_result"
        }
      ],
      "source": [
        "test_vs_pred.columns"
      ]
    },
    {
      "cell_type": "code",
      "execution_count": null,
      "id": "1ea13c26",
      "metadata": {
        "id": "1ea13c26",
        "outputId": "d9128c50-d452-4d96-c008-4739f9a0bc68"
      },
      "outputs": [
        {
          "data": {
            "text/plain": [
              "Index(['LAT', 'LON', 'LAT_predicted', 'LON_predicted'], dtype='object')"
            ]
          },
          "execution_count": 557,
          "metadata": {},
          "output_type": "execute_result"
        }
      ],
      "source": [
        "test_vs_pred.columns"
      ]
    },
    {
      "cell_type": "code",
      "execution_count": null,
      "id": "7ddd3d40",
      "metadata": {
        "id": "7ddd3d40",
        "outputId": "5b1e2a2c-d214-4a46-db56-094a45de6742"
      },
      "outputs": [
        {
          "data": {
            "text/plain": [
              "[<matplotlib.lines.Line2D at 0x7fab58b5ce80>]"
            ]
          },
          "execution_count": 558,
          "metadata": {},
          "output_type": "execute_result"
        },
        {
          "data": {
            "image/png": "[encoded data removed]",
            "text/plain": [
              "<Figure size 432x288 with 1 Axes>"
            ]
          },
          "metadata": {
            "needs_background": "light"
          },
          "output_type": "display_data"
        }
      ],
      "source": [
        "plt.plot(test_vs_pred.LON,test_vs_pred.LAT)"
      ]
    },
    {
      "cell_type": "code",
      "execution_count": null,
      "id": "697ae230",
      "metadata": {
        "id": "697ae230",
        "outputId": "60bd6eb4-97af-4157-eefa-bdc6954567af"
      },
      "outputs": [
        {
          "data": {
            "text/plain": [
              "[<matplotlib.lines.Line2D at 0x7fab58b2f3d0>]"
            ]
          },
          "execution_count": 556,
          "metadata": {},
          "output_type": "execute_result"
        },
        {
          "data": {
            "image/png": "[encoded data removed]",
            "text/plain": [
              "<Figure size 432x288 with 1 Axes>"
            ]
          },
          "metadata": {
            "needs_background": "light"
          },
          "output_type": "display_data"
        }
      ],
      "source": [
        "plt.plot(test_vs_pred.LON_predicted,test_vs_pred.LAT_predicted)"
      ]
    },
    {
      "cell_type": "code",
      "execution_count": null,
      "id": "aed8615e",
      "metadata": {
        "id": "aed8615e"
      },
      "outputs": [],
      "source": []
    },
    {
      "cell_type": "code",
      "execution_count": null,
      "id": "07a3f8e9",
      "metadata": {
        "id": "07a3f8e9"
      },
      "outputs": [],
      "source": []
    },
    {
      "cell_type": "code",
      "execution_count": null,
      "id": "80cf4f7f",
      "metadata": {
        "id": "80cf4f7f"
      },
      "outputs": [],
      "source": []
    },
    {
      "cell_type": "code",
      "execution_count": null,
      "id": "39b655ec",
      "metadata": {
        "id": "39b655ec"
      },
      "outputs": [],
      "source": []
    },
    {
      "cell_type": "code",
      "execution_count": null,
      "id": "fa972634",
      "metadata": {
        "id": "fa972634"
      },
      "outputs": [],
      "source": []
    }
  ],
  "metadata": {
    "kernelspec": {
      "display_name": "Python 3 (ipykernel)",
      "language": "python",
      "name": "python3"
    },
    "language_info": {
      "codemirror_mode": {
        "name": "ipython",
        "version": 3
      },
      "file_extension": ".py",
      "mimetype": "text/x-python",
      "name": "python",
      "nbconvert_exporter": "python",
      "pygments_lexer": "ipython3",
      "version": "3.9.12"
    },
    "colab": {
      "provenance": []
    }
  },
  "nbformat": 4,
  "nbformat_minor": 5
}