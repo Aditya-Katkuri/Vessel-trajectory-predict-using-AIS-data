{
  "nbformat": 4,
  "nbformat_minor": 0,
  "metadata": {
    "colab": {
      "provenance": []
    },
    "kernelspec": {
      "name": "python3",
      "display_name": "Python 3"
    },
    "language_info": {
      "name": "python"
    }
  },
  "cells": [
    {
      "cell_type": "markdown",
      "source": [
        "##                  **NOTE**\n",
        "\n",
        "\n",
        "\n",
        "We first tried LSTM by ourselves,\n",
        "since it didn't give a good result, we took a paper as baseline and implemented their VARMAX modle."
      ],
      "metadata": {
        "id": "WezQF-61mr4g"
      }
    },
    {
      "cell_type": "code",
      "source": [
        "import pandas as pd\n",
        "import matplotlib.pyplot as plt"
      ],
      "metadata": {
        "id": "1N0x_3Mgms1u"
      },
      "execution_count": null,
      "outputs": []
    },
    {
      "cell_type": "code",
      "source": [
        "df = pd.read_csv('/content/drive/MyDrive/yellow.csv')"
      ],
      "metadata": {
        "id": "TZqbNkGZbQdZ"
      },
      "execution_count": null,
      "outputs": []
    },
    {
      "cell_type": "code",
      "source": [
        "def ploting(dataframe):\n",
        "    plt.plot(dataframe.LON, dataframe.LAT)\n",
        "    plt.xlabel('x - axis')\n",
        "    plt.ylabel('y - axis')\n",
        "    plt.title('trajectory')\n",
        "    plt.show()"
      ],
      "metadata": {
        "id": "nARq6BjqbUNW"
      },
      "execution_count": null,
      "outputs": []
    },
    {
      "cell_type": "code",
      "source": [
        "ploting(df)"
      ],
      "metadata": {
        "colab": {
          "base_uri": "https://localhost:8080/",
          "height": 295
        },
        "id": "2iT16atMccZ-",
        "outputId": "e208dc05-043e-492c-c851-723838b10cad"
      },
      "execution_count": null,
      "outputs": [
        {
          "output_type": "display_data",
          "data": {
            "text/plain": [
              "<Figure size 432x288 with 1 Axes>"
            ],
            "image/png": "[encoded data removed]"
          },
          "metadata": {
            "needs_background": "light"
          }
        }
      ]
    },
    {
      "cell_type": "code",
      "source": [
        "import numpy as np\n",
        "from tensorflow.keras.models import Sequential\n",
        "from tensorflow.keras.layers import LSTM\n",
        "from tensorflow.keras.layers import Dense, Dropout\n",
        "import pandas as pd\n",
        "from matplotlib import pyplot as plt\n",
        "from sklearn.preprocessing import StandardScaler\n",
        "import seaborn as sns"
      ],
      "metadata": {
        "id": "X3WX8PcMcfGq"
      },
      "execution_count": null,
      "outputs": []
    },
    {
      "cell_type": "code",
      "source": [
        "df = df.drop(['Unnamed: 0'], axis=1)"
      ],
      "metadata": {
        "id": "g5QxMDBwcrxM"
      },
      "execution_count": null,
      "outputs": []
    },
    {
      "cell_type": "code",
      "source": [
        "df.shape"
      ],
      "metadata": {
        "colab": {
          "base_uri": "https://localhost:8080/"
        },
        "id": "PsZ3bholc5Ba",
        "outputId": "b9fb158f-45f9-4caa-ac48-a2adadc7b244"
      },
      "execution_count": null,
      "outputs": [
        {
          "output_type": "execute_result",
          "data": {
            "text/plain": [
              "(78, 2)"
            ]
          },
          "metadata": {},
          "execution_count": 9
        }
      ]
    },
    {
      "cell_type": "code",
      "source": [
        "cols = list(df)[0:2]"
      ],
      "metadata": {
        "id": "H8R6IjtXdVEn"
      },
      "execution_count": null,
      "outputs": []
    },
    {
      "cell_type": "code",
      "source": [
        "cols"
      ],
      "metadata": {
        "colab": {
          "base_uri": "https://localhost:8080/"
        },
        "id": "WlT6y4nKdqyX",
        "outputId": "a9097f96-0b8c-4095-af20-cbff7ba3bdfd"
      },
      "execution_count": null,
      "outputs": [
        {
          "output_type": "execute_result",
          "data": {
            "text/plain": [
              "['LAT', 'LON']"
            ]
          },
          "metadata": {},
          "execution_count": 11
        }
      ]
    },
    {
      "cell_type": "code",
      "source": [
        "df_for_training = df[cols].astype(float)"
      ],
      "metadata": {
        "id": "zOi2ucpWdsEJ"
      },
      "execution_count": null,
      "outputs": []
    },
    {
      "cell_type": "code",
      "source": [
        "trainX = []\n",
        "trainY = []\n",
        "\n",
        "trainX = df_for_training[0:50]\n",
        "trainY = df_for_training[50:78]"
      ],
      "metadata": {
        "id": "C_vn4cf5eAVr"
      },
      "execution_count": null,
      "outputs": []
    },
    {
      "cell_type": "code",
      "source": [
        "trainX"
      ],
      "metadata": {
        "colab": {
          "base_uri": "https://localhost:8080/",
          "height": 1000
        },
        "id": "w_pZaHdmenK_",
        "outputId": "9b0bed35-30bd-4999-ad26-b51801f5ad27"
      },
      "execution_count": null,
      "outputs": [
        {
          "output_type": "execute_result",
          "data": {
            "text/plain": [
              "         LAT       LON\n",
              "0   0.102341  0.259219\n",
              "1   0.102342  0.258435\n",
              "2   0.102346  0.256404\n",
              "3   0.102346  0.255360\n",
              "4   0.102345  0.254760\n",
              "5   0.102346  0.254316\n",
              "6   0.102349  0.253522\n",
              "7   0.102351  0.252724\n",
              "8   0.102351  0.251130\n",
              "9   0.102355  0.250506\n",
              "10  0.102351  0.249450\n",
              "11  0.102352  0.248574\n",
              "12  0.102352  0.247956\n",
              "13  0.102357  0.247250\n",
              "14  0.102362  0.246266\n",
              "15  0.102363  0.245628\n",
              "16  0.102355  0.244647\n",
              "17  0.102349  0.244018\n",
              "18  0.102338  0.243124\n",
              "19  0.102331  0.242508\n",
              "20  0.102323  0.241728\n",
              "21  0.102317  0.241114\n",
              "22  0.102311  0.240489\n",
              "23  0.102305  0.239788\n",
              "24  0.102299  0.239083\n",
              "25  0.102293  0.238463\n",
              "26  0.102288  0.237855\n",
              "27  0.102280  0.237149\n",
              "28  0.102274  0.236529\n",
              "29  0.102259  0.235289\n",
              "30  0.102248  0.234315\n",
              "31  0.102231  0.232731\n",
              "32  0.102224  0.232029\n",
              "33  0.102219  0.231407\n",
              "34  0.102215  0.230697\n",
              "35  0.102208  0.229821\n",
              "36  0.102202  0.229211\n",
              "37  0.102195  0.228250\n",
              "38  0.102182  0.226573\n",
              "39  0.102177  0.225961\n",
              "40  0.102176  0.225439\n",
              "41  0.102176  0.224581\n",
              "42  0.102177  0.223965\n",
              "43  0.102179  0.223349\n",
              "44  0.102177  0.221092\n",
              "45  0.102177  0.220470\n",
              "46  0.102181  0.219680\n",
              "47  0.102183  0.219156\n",
              "48  0.102185  0.218374\n",
              "49  0.102182  0.216920"
            ],
            "text/html": [
              "\n",
              "  <div id=\"df-3376ce44-6abe-4c29-85d2-47ce8893c72a\">\n",
              "    <div class=\"colab-df-container\">\n",
              "      <div>\n",
              "<style scoped>\n",
              "    .dataframe tbody tr th:only-of-type {\n",
              "        vertical-align: middle;\n",
              "    }\n",
              "\n",
              "    .dataframe tbody tr th {\n",
              "        vertical-align: top;\n",
              "    }\n",
              "\n",
              "    .dataframe thead th {\n",
              "        text-align: right;\n",
              "    }\n",
              "</style>\n",
              "<table border=\"1\" class=\"dataframe\">\n",
              "  <thead>\n",
              "    <tr style=\"text-align: right;\">\n",
              "      <th></th>\n",
              "      <th>LAT</th>\n",
              "      <th>LON</th>\n",
              "    </tr>\n",
              "  </thead>\n",
              "  <tbody>\n",
              "    <tr>\n",
              "      <th>0</th>\n",
              "      <td>0.102341</td>\n",
              "      <td>0.259219</td>\n",
              "    </tr>\n",
              "    <tr>\n",
              "      <th>1</th>\n",
              "      <td>0.102342</td>\n",
              "      <td>0.258435</td>\n",
              "    </tr>\n",
              "    <tr>\n",
              "      <th>2</th>\n",
              "      <td>0.102346</td>\n",
              "      <td>0.256404</td>\n",
              "    </tr>\n",
              "    <tr>\n",
              "      <th>3</th>\n",
              "      <td>0.102346</td>\n",
              "      <td>0.255360</td>\n",
              "    </tr>\n",
              "    <tr>\n",
              "      <th>4</th>\n",
              "      <td>0.102345</td>\n",
              "      <td>0.254760</td>\n",
              "    </tr>\n",
              "    <tr>\n",
              "      <th>5</th>\n",
              "      <td>0.102346</td>\n",
              "      <td>0.254316</td>\n",
              "    </tr>\n",
              "    <tr>\n",
              "      <th>6</th>\n",
              "      <td>0.102349</td>\n",
              "      <td>0.253522</td>\n",
              "    </tr>\n",
              "    <tr>\n",
              "      <th>7</th>\n",
              "      <td>0.102351</td>\n",
              "      <td>0.252724</td>\n",
              "    </tr>\n",
              "    <tr>\n",
              "      <th>8</th>\n",
              "      <td>0.102351</td>\n",
              "      <td>0.251130</td>\n",
              "    </tr>\n",
              "    <tr>\n",
              "      <th>9</th>\n",
              "      <td>0.102355</td>\n",
              "      <td>0.250506</td>\n",
              "    </tr>\n",
              "    <tr>\n",
              "      <th>10</th>\n",
              "      <td>0.102351</td>\n",
              "      <td>0.249450</td>\n",
              "    </tr>\n",
              "    <tr>\n",
              "      <th>11</th>\n",
              "      <td>0.102352</td>\n",
              "      <td>0.248574</td>\n",
              "    </tr>\n",
              "    <tr>\n",
              "      <th>12</th>\n",
              "      <td>0.102352</td>\n",
              "      <td>0.247956</td>\n",
              "    </tr>\n",
              "    <tr>\n",
              "      <th>13</th>\n",
              "      <td>0.102357</td>\n",
              "      <td>0.247250</td>\n",
              "    </tr>\n",
              "    <tr>\n",
              "      <th>14</th>\n",
              "      <td>0.102362</td>\n",
              "      <td>0.246266</td>\n",
              "    </tr>\n",
              "    <tr>\n",
              "      <th>15</th>\n",
              "      <td>0.102363</td>\n",
              "      <td>0.245628</td>\n",
              "    </tr>\n",
              "    <tr>\n",
              "      <th>16</th>\n",
              "      <td>0.102355</td>\n",
              "      <td>0.244647</td>\n",
              "    </tr>\n",
              "    <tr>\n",
              "      <th>17</th>\n",
              "      <td>0.102349</td>\n",
              "      <td>0.244018</td>\n",
              "    </tr>\n",
              "    <tr>\n",
              "      <th>18</th>\n",
              "      <td>0.102338</td>\n",
              "      <td>0.243124</td>\n",
              "    </tr>\n",
              "    <tr>\n",
              "      <th>19</th>\n",
              "      <td>0.102331</td>\n",
              "      <td>0.242508</td>\n",
              "    </tr>\n",
              "    <tr>\n",
              "      <th>20</th>\n",
              "      <td>0.102323</td>\n",
              "      <td>0.241728</td>\n",
              "    </tr>\n",
              "    <tr>\n",
              "      <th>21</th>\n",
              "      <td>0.102317</td>\n",
              "      <td>0.241114</td>\n",
              "    </tr>\n",
              "    <tr>\n",
              "      <th>22</th>\n",
              "      <td>0.102311</td>\n",
              "      <td>0.240489</td>\n",
              "    </tr>\n",
              "    <tr>\n",
              "      <th>23</th>\n",
              "      <td>0.102305</td>\n",
              "      <td>0.239788</td>\n",
              "    </tr>\n",
              "    <tr>\n",
              "      <th>24</th>\n",
              "      <td>0.102299</td>\n",
              "      <td>0.239083</td>\n",
              "    </tr>\n",
              "    <tr>\n",
              "      <th>25</th>\n",
              "      <td>0.102293</td>\n",
              "      <td>0.238463</td>\n",
              "    </tr>\n",
              "    <tr>\n",
              "      <th>26</th>\n",
              "      <td>0.102288</td>\n",
              "      <td>0.237855</td>\n",
              "    </tr>\n",
              "    <tr>\n",
              "      <th>27</th>\n",
              "      <td>0.102280</td>\n",
              "      <td>0.237149</td>\n",
              "    </tr>\n",
              "    <tr>\n",
              "      <th>28</th>\n",
              "      <td>0.102274</td>\n",
              "      <td>0.236529</td>\n",
              "    </tr>\n",
              "    <tr>\n",
              "      <th>29</th>\n",
              "      <td>0.102259</td>\n",
              "      <td>0.235289</td>\n",
              "    </tr>\n",
              "    <tr>\n",
              "      <th>30</th>\n",
              "      <td>0.102248</td>\n",
              "      <td>0.234315</td>\n",
              "    </tr>\n",
              "    <tr>\n",
              "      <th>31</th>\n",
              "      <td>0.102231</td>\n",
              "      <td>0.232731</td>\n",
              "    </tr>\n",
              "    <tr>\n",
              "      <th>32</th>\n",
              "      <td>0.102224</td>\n",
              "      <td>0.232029</td>\n",
              "    </tr>\n",
              "    <tr>\n",
              "      <th>33</th>\n",
              "      <td>0.102219</td>\n",
              "      <td>0.231407</td>\n",
              "    </tr>\n",
              "    <tr>\n",
              "      <th>34</th>\n",
              "      <td>0.102215</td>\n",
              "      <td>0.230697</td>\n",
              "    </tr>\n",
              "    <tr>\n",
              "      <th>35</th>\n",
              "      <td>0.102208</td>\n",
              "      <td>0.229821</td>\n",
              "    </tr>\n",
              "    <tr>\n",
              "      <th>36</th>\n",
              "      <td>0.102202</td>\n",
              "      <td>0.229211</td>\n",
              "    </tr>\n",
              "    <tr>\n",
              "      <th>37</th>\n",
              "      <td>0.102195</td>\n",
              "      <td>0.228250</td>\n",
              "    </tr>\n",
              "    <tr>\n",
              "      <th>38</th>\n",
              "      <td>0.102182</td>\n",
              "      <td>0.226573</td>\n",
              "    </tr>\n",
              "    <tr>\n",
              "      <th>39</th>\n",
              "      <td>0.102177</td>\n",
              "      <td>0.225961</td>\n",
              "    </tr>\n",
              "    <tr>\n",
              "      <th>40</th>\n",
              "      <td>0.102176</td>\n",
              "      <td>0.225439</td>\n",
              "    </tr>\n",
              "    <tr>\n",
              "      <th>41</th>\n",
              "      <td>0.102176</td>\n",
              "      <td>0.224581</td>\n",
              "    </tr>\n",
              "    <tr>\n",
              "      <th>42</th>\n",
              "      <td>0.102177</td>\n",
              "      <td>0.223965</td>\n",
              "    </tr>\n",
              "    <tr>\n",
              "      <th>43</th>\n",
              "      <td>0.102179</td>\n",
              "      <td>0.223349</td>\n",
              "    </tr>\n",
              "    <tr>\n",
              "      <th>44</th>\n",
              "      <td>0.102177</td>\n",
              "      <td>0.221092</td>\n",
              "    </tr>\n",
              "    <tr>\n",
              "      <th>45</th>\n",
              "      <td>0.102177</td>\n",
              "      <td>0.220470</td>\n",
              "    </tr>\n",
              "    <tr>\n",
              "      <th>46</th>\n",
              "      <td>0.102181</td>\n",
              "      <td>0.219680</td>\n",
              "    </tr>\n",
              "    <tr>\n",
              "      <th>47</th>\n",
              "      <td>0.102183</td>\n",
              "      <td>0.219156</td>\n",
              "    </tr>\n",
              "    <tr>\n",
              "      <th>48</th>\n",
              "      <td>0.102185</td>\n",
              "      <td>0.218374</td>\n",
              "    </tr>\n",
              "    <tr>\n",
              "      <th>49</th>\n",
              "      <td>0.102182</td>\n",
              "      <td>0.216920</td>\n",
              "    </tr>\n",
              "  </tbody>\n",
              "</table>\n",
              "</div>\n",
              "      <button class=\"colab-df-convert\" onclick=\"convertToInteractive('df-3376ce44-6abe-4c29-85d2-47ce8893c72a')\"\n",
              "              title=\"Convert this dataframe to an interactive table.\"\n",
              "              style=\"display:none;\">\n",
              "        \n",
              "  <svg xmlns=\"http://www.w3.org/2000/svg\" height=\"24px\"viewBox=\"0 0 24 24\"\n",
              "       width=\"24px\">\n",
              "    <path d=\"M0 0h24v24H0V0z\" fill=\"none\"/>\n",
              "    <path d=\"M18.56 5.44l.94 2.06.94-2.06 2.06-.94-2.06-.94-.94-2.06-.94 2.06-2.06.94zm-11 1L8.5 8.5l.94-2.06 2.06-.94-2.06-.94L8.5 2.5l-.94 2.06-2.06.94zm10 10l.94 2.06.94-2.06 2.06-.94-2.06-.94-.94-2.06-.94 2.06-2.06.94z\"/><path d=\"M17.41 7.96l-1.37-1.37c-.4-.4-.92-.59-1.43-.59-.52 0-1.04.2-1.43.59L10.3 9.45l-7.72 7.72c-.78.78-.78 2.05 0 2.83L4 21.41c.39.39.9.59 1.41.59.51 0 1.02-.2 1.41-.59l7.78-7.78 2.81-2.81c.8-.78.8-2.07 0-2.86zM5.41 20L4 18.59l7.72-7.72 1.47 1.35L5.41 20z\"/>\n",
              "  </svg>\n",
              "      </button>\n",
              "      \n",
              "  <style>\n",
              "    .colab-df-container {\n",
              "      display:flex;\n",
              "      flex-wrap:wrap;\n",
              "      gap: 12px;\n",
              "    }\n",
              "\n",
              "    .colab-df-convert {\n",
              "      background-color: #E8F0FE;\n",
              "      border: none;\n",
              "      border-radius: 50%;\n",
              "      cursor: pointer;\n",
              "      display: none;\n",
              "      fill: #1967D2;\n",
              "      height: 32px;\n",
              "      padding: 0 0 0 0;\n",
              "      width: 32px;\n",
              "    }\n",
              "\n",
              "    .colab-df-convert:hover {\n",
              "      background-color: #E2EBFA;\n",
              "      box-shadow: 0px 1px 2px rgba(60, 64, 67, 0.3), 0px 1px 3px 1px rgba(60, 64, 67, 0.15);\n",
              "      fill: #174EA6;\n",
              "    }\n",
              "\n",
              "    [theme=dark] .colab-df-convert {\n",
              "      background-color: #3B4455;\n",
              "      fill: #D2E3FC;\n",
              "    }\n",
              "\n",
              "    [theme=dark] .colab-df-convert:hover {\n",
              "      background-color: #434B5C;\n",
              "      box-shadow: 0px 1px 3px 1px rgba(0, 0, 0, 0.15);\n",
              "      filter: drop-shadow(0px 1px 2px rgba(0, 0, 0, 0.3));\n",
              "      fill: #FFFFFF;\n",
              "    }\n",
              "  </style>\n",
              "\n",
              "      <script>\n",
              "        const buttonEl =\n",
              "          document.querySelector('#df-3376ce44-6abe-4c29-85d2-47ce8893c72a button.colab-df-convert');\n",
              "        buttonEl.style.display =\n",
              "          google.colab.kernel.accessAllowed ? 'block' : 'none';\n",
              "\n",
              "        async function convertToInteractive(key) {\n",
              "          const element = document.querySelector('#df-3376ce44-6abe-4c29-85d2-47ce8893c72a');\n",
              "          const dataTable =\n",
              "            await google.colab.kernel.invokeFunction('convertToInteractive',\n",
              "                                                     [key], {});\n",
              "          if (!dataTable) return;\n",
              "\n",
              "          const docLinkHtml = 'Like what you see? Visit the ' +\n",
              "            '<a target=\"_blank\" href=https://colab.research.google.com/notebooks/data_table.ipynb>data table notebook</a>'\n",
              "            + ' to learn more about interactive tables.';\n",
              "          element.innerHTML = '';\n",
              "          dataTable['output_type'] = 'display_data';\n",
              "          await google.colab.output.renderOutput(dataTable, element);\n",
              "          const docLink = document.createElement('div');\n",
              "          docLink.innerHTML = docLinkHtml;\n",
              "          element.appendChild(docLink);\n",
              "        }\n",
              "      </script>\n",
              "    </div>\n",
              "  </div>\n",
              "  "
            ]
          },
          "metadata": {},
          "execution_count": 14
        }
      ]
    },
    {
      "cell_type": "code",
      "source": [
        "from statsmodels.graphics.tsaplots import plot_acf, plot_pacf\n",
        "from statsmodels.tsa.statespace.varmax import VARMAX\n",
        "from statsmodels.tsa.api import VAR\n",
        "from statsmodels.tsa.stattools import grangercausalitytests, adfuller\n",
        "from tqdm import tqdm_notebook\n",
        "from itertools import product\n",
        "\n",
        "import matplotlib.pyplot as plt\n",
        "import statsmodels.api as sm\n",
        "import pandas as pd\n",
        "import numpy as np\n",
        "\n",
        "import warnings\n",
        "warnings.filterwarnings('ignore')"
      ],
      "metadata": {
        "id": "EaWRMC7_irAx"
      },
      "execution_count": null,
      "outputs": []
    },
    {
      "cell_type": "code",
      "source": [
        "ad_fuller_result_1 = adfuller(df['LAT'].diff()[1:])\n",
        "\n",
        "print('realLAT')\n",
        "print(f'ADF Statistic: {ad_fuller_result_1[0]}')\n",
        "print(f'p-value: {ad_fuller_result_1[1]}')\n",
        "\n",
        "print('\\n---------------------\\n')\n",
        "\n",
        "ad_fuller_result_2 = adfuller(df['LON'].diff()[1:])\n",
        "\n",
        "print('realLON')\n",
        "print(f'ADF Statistic: {ad_fuller_result_2[0]}')\n",
        "print(f'p-value: {ad_fuller_result_2[1]}')"
      ],
      "metadata": {
        "colab": {
          "base_uri": "https://localhost:8080/"
        },
        "id": "y5GBTmJvK--I",
        "outputId": "46e5ebc9-2982-4d66-b48e-14ed12e68aa7"
      },
      "execution_count": null,
      "outputs": [
        {
          "output_type": "stream",
          "name": "stdout",
          "text": [
            "realLAT\n",
            "ADF Statistic: -2.833589408750945\n",
            "p-value: 0.05363363117802854\n",
            "\n",
            "---------------------\n",
            "\n",
            "realLON\n",
            "ADF Statistic: -7.960418563849911\n",
            "p-value: 2.9588854993666724e-12\n"
          ]
        }
      ]
    },
    {
      "cell_type": "code",
      "source": [
        "print('LAT causes LON?\\n')\n",
        "print('------------------')\n",
        "granger_1 = grangercausalitytests(df[['LAT', 'LON']], 4)\n",
        "\n",
        "print('\\LON causes LAT?\\n')\n",
        "print('------------------')\n",
        "granger_2 = grangercausalitytests(df[['LON', 'LAT']], 4)"
      ],
      "metadata": {
        "colab": {
          "base_uri": "https://localhost:8080/"
        },
        "id": "Y8dPFvSNLKqR",
        "outputId": "985e7cfe-baf3-4708-8c20-0d5ca9df023b"
      },
      "execution_count": null,
      "outputs": [
        {
          "output_type": "stream",
          "name": "stdout",
          "text": [
            "LAT causes LON?\n",
            "\n",
            "------------------\n",
            "\n",
            "Granger Causality\n",
            "number of lags (no zero) 1\n",
            "ssr based F test:         F=0.0426  , p=0.8370  , df_denom=74, df_num=1\n",
            "ssr based chi2 test:   chi2=0.0443  , p=0.8332  , df=1\n",
            "likelihood ratio test: chi2=0.0443  , p=0.8332  , df=1\n",
            "parameter F test:         F=0.0426  , p=0.8370  , df_denom=74, df_num=1\n",
            "\n",
            "Granger Causality\n",
            "number of lags (no zero) 2\n",
            "ssr based F test:         F=1.4931  , p=0.2316  , df_denom=71, df_num=2\n",
            "ssr based chi2 test:   chi2=3.1965  , p=0.2023  , df=2\n",
            "likelihood ratio test: chi2=3.1311  , p=0.2090  , df=2\n",
            "parameter F test:         F=1.4931  , p=0.2316  , df_denom=71, df_num=2\n",
            "\n",
            "Granger Causality\n",
            "number of lags (no zero) 3\n",
            "ssr based F test:         F=0.7561  , p=0.5226  , df_denom=68, df_num=3\n",
            "ssr based chi2 test:   chi2=2.5019  , p=0.4750  , df=3\n",
            "likelihood ratio test: chi2=2.4610  , p=0.4824  , df=3\n",
            "parameter F test:         F=0.7561  , p=0.5226  , df_denom=68, df_num=3\n",
            "\n",
            "Granger Causality\n",
            "number of lags (no zero) 4\n",
            "ssr based F test:         F=1.1127  , p=0.3582  , df_denom=65, df_num=4\n",
            "ssr based chi2 test:   chi2=5.0670  , p=0.2805  , df=4\n",
            "likelihood ratio test: chi2=4.9010  , p=0.2976  , df=4\n",
            "parameter F test:         F=1.1127  , p=0.3582  , df_denom=65, df_num=4\n",
            "\\LON causes LAT?\n",
            "\n",
            "------------------\n",
            "\n",
            "Granger Causality\n",
            "number of lags (no zero) 1\n",
            "ssr based F test:         F=2.8157  , p=0.0976  , df_denom=74, df_num=1\n",
            "ssr based chi2 test:   chi2=2.9299  , p=0.0870  , df=1\n",
            "likelihood ratio test: chi2=2.8755  , p=0.0899  , df=1\n",
            "parameter F test:         F=2.8157  , p=0.0976  , df_denom=74, df_num=1\n",
            "\n",
            "Granger Causality\n",
            "number of lags (no zero) 2\n",
            "ssr based F test:         F=3.0912  , p=0.0516  , df_denom=71, df_num=2\n",
            "ssr based chi2 test:   chi2=6.6178  , p=0.0366  , df=2\n",
            "likelihood ratio test: chi2=6.3454  , p=0.0419  , df=2\n",
            "parameter F test:         F=3.0912  , p=0.0516  , df_denom=71, df_num=2\n",
            "\n",
            "Granger Causality\n",
            "number of lags (no zero) 3\n",
            "ssr based F test:         F=1.7132  , p=0.1725  , df_denom=68, df_num=3\n",
            "ssr based chi2 test:   chi2=5.6687  , p=0.1289  , df=3\n",
            "likelihood ratio test: chi2=5.4647  , p=0.1408  , df=3\n",
            "parameter F test:         F=1.7132  , p=0.1725  , df_denom=68, df_num=3\n",
            "\n",
            "Granger Causality\n",
            "number of lags (no zero) 4\n",
            "ssr based F test:         F=1.6639  , p=0.1691  , df_denom=65, df_num=4\n",
            "ssr based chi2 test:   chi2=7.5772  , p=0.1084  , df=4\n",
            "likelihood ratio test: chi2=7.2139  , p=0.1250  , df=4\n",
            "parameter F test:         F=1.6639  , p=0.1691  , df_denom=65, df_num=4\n"
          ]
        }
      ]
    },
    {
      "cell_type": "code",
      "source": [
        "macro_data = df[['LAT','LON']]\n",
        "print(macro_data.shape)"
      ],
      "metadata": {
        "colab": {
          "base_uri": "https://localhost:8080/"
        },
        "id": "8F0ySpc1MrMD",
        "outputId": "141051c7-8fc9-4fec-da57-6bad9e554d3e"
      },
      "execution_count": null,
      "outputs": [
        {
          "output_type": "stream",
          "name": "stdout",
          "text": [
            "(78, 2)\n"
          ]
        }
      ]
    },
    {
      "cell_type": "code",
      "source": [
        "train_df=macro_data[:-12]\n",
        "test_df=macro_data[-12:]"
      ],
      "metadata": {
        "id": "GvrHuhypM5Hc"
      },
      "execution_count": null,
      "outputs": []
    },
    {
      "cell_type": "code",
      "source": [
        "train_df.shape"
      ],
      "metadata": {
        "colab": {
          "base_uri": "https://localhost:8080/"
        },
        "id": "7t-PCEMgNAX8",
        "outputId": "06f79808-3f4e-4c69-d9a1-09eaeb83e5df"
      },
      "execution_count": null,
      "outputs": [
        {
          "output_type": "execute_result",
          "data": {
            "text/plain": [
              "(66, 2)"
            ]
          },
          "metadata": {},
          "execution_count": 20
        }
      ]
    },
    {
      "cell_type": "code",
      "source": [
        "test_df.shape"
      ],
      "metadata": {
        "colab": {
          "base_uri": "https://localhost:8080/"
        },
        "id": "7rhTK-P3NC06",
        "outputId": "7bb45a60-a250-4751-ff0e-7514d0c444cd"
      },
      "execution_count": null,
      "outputs": [
        {
          "output_type": "execute_result",
          "data": {
            "text/plain": [
              "(12, 2)"
            ]
          },
          "metadata": {},
          "execution_count": 21
        }
      ]
    },
    {
      "cell_type": "code",
      "source": [
        "model = VAR(train_df.diff()[1:])"
      ],
      "metadata": {
        "id": "kcXPIUA2NFDt"
      },
      "execution_count": null,
      "outputs": []
    },
    {
      "cell_type": "code",
      "source": [
        "sorted_order=model.select_order(maxlags=20)\n",
        "print(sorted_order.summary())"
      ],
      "metadata": {
        "colab": {
          "base_uri": "https://localhost:8080/"
        },
        "id": "Z70L9OF2NIh7",
        "outputId": "7d1e9484-9e34-4033-f76e-46a4aaf1d5ae"
      },
      "execution_count": null,
      "outputs": [
        {
          "output_type": "stream",
          "name": "stdout",
          "text": [
            " VAR Order Selection (* highlights the minimums)  \n",
            "==================================================\n",
            "       AIC         BIC         FPE         HQIC   \n",
            "--------------------------------------------------\n",
            "0       -40.22      -40.14   3.409e-18      -40.19\n",
            "1       -41.07     -40.83*   1.452e-18      -40.98\n",
            "2       -41.08      -40.68  1.440e-18*      -40.93\n",
            "3       -41.01      -40.45   1.558e-18      -40.80\n",
            "4       -40.99      -40.27   1.595e-18      -40.72\n",
            "5       -40.86      -39.98   1.826e-18      -40.54\n",
            "6       -40.87      -39.83   1.840e-18      -40.48\n",
            "7       -40.73      -39.52   2.166e-18      -40.28\n",
            "8       -40.59      -39.23   2.545e-18      -40.08\n",
            "9       -40.46      -38.93   3.002e-18      -39.89\n",
            "10      -40.40      -38.72   3.322e-18      -39.77\n",
            "11      -40.32      -38.47   3.833e-18      -39.63\n",
            "12      -40.42      -38.41   3.712e-18      -39.67\n",
            "13      -40.62      -38.45   3.329e-18      -39.81\n",
            "14      -40.74      -38.41   3.292e-18      -39.87\n",
            "15      -40.81      -38.32   3.549e-18      -39.88\n",
            "16      -41.30      -38.65   2.600e-18      -40.31\n",
            "17      -41.30      -38.49   3.296e-18      -40.25\n",
            "18      -41.45      -38.48   3.913e-18      -40.34\n",
            "19      -42.35      -39.22   2.478e-18      -41.18\n",
            "20     -42.66*      -39.37   3.584e-18     -41.43*\n",
            "--------------------------------------------------\n"
          ]
        }
      ]
    },
    {
      "cell_type": "code",
      "source": [
        "var_model = VARMAX(train_df, order=(4,0), enforce_stationarity= True)\n",
        "fitted_model = var_model.fit(disp=False)\n",
        "print(fitted_model.summary())"
      ],
      "metadata": {
        "colab": {
          "base_uri": "https://localhost:8080/"
        },
        "id": "aFQoUEvUNNFv",
        "outputId": "592296a3-8ed5-4677-fafb-bff133fdd827"
      },
      "execution_count": null,
      "outputs": [
        {
          "output_type": "stream",
          "name": "stdout",
          "text": [
            "                           Statespace Model Results                           \n",
            "==============================================================================\n",
            "Dep. Variable:         ['LAT', 'LON']   No. Observations:                   66\n",
            "Model:                         VAR(4)   Log Likelihood                 735.521\n",
            "                          + intercept   AIC                          -1429.041\n",
            "Date:                Tue, 22 Nov 2022   BIC                          -1383.059\n",
            "Time:                        11:59:19   HQIC                         -1410.871\n",
            "Sample:                             0                                         \n",
            "                                 - 66                                         \n",
            "Covariance Type:                  opg                                         \n",
            "===================================================================================\n",
            "Ljung-Box (L1) (Q):           65.81, 60.35   Jarque-Bera (JB):           8.75, 3.20\n",
            "Prob(Q):                        0.00, 0.00   Prob(JB):                   0.01, 0.20\n",
            "Heteroskedasticity (H):         0.27, 4.56   Skew:                      0.27, -0.42\n",
            "Prob(H) (two-sided):            0.00, 0.00   Kurtosis:                   1.30, 2.33\n",
            "                           Results for equation LAT                           \n",
            "==============================================================================\n",
            "                 coef    std err          z      P>|z|      [0.025      0.975]\n",
            "------------------------------------------------------------------------------\n",
            "intercept      0.1016      0.228      0.445      0.656      -0.346       0.549\n",
            "L1.LAT         0.0014      4.548      0.000      1.000      -8.913       8.915\n",
            "L1.LON      3.214e-06      0.022      0.000      1.000      -0.042       0.042\n",
            "L2.LAT         0.0014      4.524      0.000      1.000      -8.866       8.869\n",
            "L2.LON      3.209e-06      0.028      0.000      1.000      -0.054       0.054\n",
            "L3.LAT         0.0014      3.821      0.000      1.000      -7.488       7.491\n",
            "L3.LON      3.207e-06      0.022      0.000      1.000      -0.042       0.042\n",
            "L4.LAT         0.0015      2.176      0.001      0.999      -4.262       4.265\n",
            "L4.LON      3.203e-06      0.012      0.000      1.000      -0.023       0.023\n",
            "                           Results for equation LON                           \n",
            "==============================================================================\n",
            "                 coef    std err          z      P>|z|      [0.025      0.975]\n",
            "------------------------------------------------------------------------------\n",
            "intercept      0.2352      0.532      0.442      0.659      -0.808       1.279\n",
            "L1.LAT        -0.0443      0.070     -0.636      0.525      -0.181       0.092\n",
            "L1.LON         0.0034      8.939      0.000      1.000     -17.517      17.524\n",
            "L2.LAT        -0.0248      0.119     -0.209      0.835      -0.258       0.208\n",
            "L2.LON         0.0033     14.064      0.000      1.000     -27.561      27.568\n",
            "L3.LAT        -0.0062      0.079     -0.078      0.938      -0.160       0.148\n",
            "L3.LON         0.0032     16.360      0.000      1.000     -32.062      32.068\n",
            "L4.LAT         0.0124      0.161      0.077      0.939      -0.304       0.329\n",
            "L4.LON         0.0031     11.432      0.000      1.000     -22.404      22.410\n",
            "                              Error covariance matrix                               \n",
            "====================================================================================\n",
            "                       coef    std err          z      P>|z|      [0.025      0.975]\n",
            "------------------------------------------------------------------------------------\n",
            "sqrt.var.LAT      6.141e-05   9.88e-05      0.622      0.534      -0.000       0.000\n",
            "sqrt.cov.LAT.LON     0.0107      0.041      0.260      0.795      -0.070       0.092\n",
            "sqrt.var.LON         0.0157      0.026      0.605      0.545      -0.035       0.066\n",
            "====================================================================================\n",
            "\n",
            "Warnings:\n",
            "[1] Covariance matrix calculated using the outer product of gradients (complex-step).\n",
            "[2] Covariance matrix is singular or near-singular, with condition number 3.88e+20. Standard errors may be unstable.\n"
          ]
        }
      ]
    },
    {
      "cell_type": "code",
      "source": [
        "n_forecast = 12\n",
        "predict = fitted_model.get_prediction(start=len(train_df),end=len(train_df) + n_forecast-1)\n",
        "predictions=predict.predicted_mean"
      ],
      "metadata": {
        "id": "JgDd2PIlNU5F"
      },
      "execution_count": null,
      "outputs": []
    },
    {
      "cell_type": "code",
      "source": [
        "predictions.columns=['LAT_predicted','LON_predicted']\n",
        "predictions"
      ],
      "metadata": {
        "colab": {
          "base_uri": "https://localhost:8080/",
          "height": 426
        },
        "id": "BJkyUqnCNgGc",
        "outputId": "0bb27689-d9dc-48a1-f11d-7e704efe859e"
      },
      "execution_count": null,
      "outputs": [
        {
          "output_type": "execute_result",
          "data": {
            "text/plain": [
              "    LAT_predicted  LON_predicted\n",
              "66       0.102237       0.231381\n",
              "67       0.102238       0.231469\n",
              "68       0.102238       0.231558\n",
              "69       0.102238       0.231647\n",
              "70       0.102238       0.231738\n",
              "71       0.102238       0.231739\n",
              "72       0.102238       0.231740\n",
              "73       0.102238       0.231740\n",
              "74       0.102238       0.231741\n",
              "75       0.102238       0.231741\n",
              "76       0.102238       0.231741\n",
              "77       0.102238       0.231741"
            ],
            "text/html": [
              "\n",
              "  <div id=\"df-f2a84c7a-9f32-4c97-befe-4713ecd77741\">\n",
              "    <div class=\"colab-df-container\">\n",
              "      <div>\n",
              "<style scoped>\n",
              "    .dataframe tbody tr th:only-of-type {\n",
              "        vertical-align: middle;\n",
              "    }\n",
              "\n",
              "    .dataframe tbody tr th {\n",
              "        vertical-align: top;\n",
              "    }\n",
              "\n",
              "    .dataframe thead th {\n",
              "        text-align: right;\n",
              "    }\n",
              "</style>\n",
              "<table border=\"1\" class=\"dataframe\">\n",
              "  <thead>\n",
              "    <tr style=\"text-align: right;\">\n",
              "      <th></th>\n",
              "      <th>LAT_predicted</th>\n",
              "      <th>LON_predicted</th>\n",
              "    </tr>\n",
              "  </thead>\n",
              "  <tbody>\n",
              "    <tr>\n",
              "      <th>66</th>\n",
              "      <td>0.102237</td>\n",
              "      <td>0.231381</td>\n",
              "    </tr>\n",
              "    <tr>\n",
              "      <th>67</th>\n",
              "      <td>0.102238</td>\n",
              "      <td>0.231469</td>\n",
              "    </tr>\n",
              "    <tr>\n",
              "      <th>68</th>\n",
              "      <td>0.102238</td>\n",
              "      <td>0.231558</td>\n",
              "    </tr>\n",
              "    <tr>\n",
              "      <th>69</th>\n",
              "      <td>0.102238</td>\n",
              "      <td>0.231647</td>\n",
              "    </tr>\n",
              "    <tr>\n",
              "      <th>70</th>\n",
              "      <td>0.102238</td>\n",
              "      <td>0.231738</td>\n",
              "    </tr>\n",
              "    <tr>\n",
              "      <th>71</th>\n",
              "      <td>0.102238</td>\n",
              "      <td>0.231739</td>\n",
              "    </tr>\n",
              "    <tr>\n",
              "      <th>72</th>\n",
              "      <td>0.102238</td>\n",
              "      <td>0.231740</td>\n",
              "    </tr>\n",
              "    <tr>\n",
              "      <th>73</th>\n",
              "      <td>0.102238</td>\n",
              "      <td>0.231740</td>\n",
              "    </tr>\n",
              "    <tr>\n",
              "      <th>74</th>\n",
              "      <td>0.102238</td>\n",
              "      <td>0.231741</td>\n",
              "    </tr>\n",
              "    <tr>\n",
              "      <th>75</th>\n",
              "      <td>0.102238</td>\n",
              "      <td>0.231741</td>\n",
              "    </tr>\n",
              "    <tr>\n",
              "      <th>76</th>\n",
              "      <td>0.102238</td>\n",
              "      <td>0.231741</td>\n",
              "    </tr>\n",
              "    <tr>\n",
              "      <th>77</th>\n",
              "      <td>0.102238</td>\n",
              "      <td>0.231741</td>\n",
              "    </tr>\n",
              "  </tbody>\n",
              "</table>\n",
              "</div>\n",
              "      <button class=\"colab-df-convert\" onclick=\"convertToInteractive('df-f2a84c7a-9f32-4c97-befe-4713ecd77741')\"\n",
              "              title=\"Convert this dataframe to an interactive table.\"\n",
              "              style=\"display:none;\">\n",
              "        \n",
              "  <svg xmlns=\"http://www.w3.org/2000/svg\" height=\"24px\"viewBox=\"0 0 24 24\"\n",
              "       width=\"24px\">\n",
              "    <path d=\"M0 0h24v24H0V0z\" fill=\"none\"/>\n",
              "    <path d=\"M18.56 5.44l.94 2.06.94-2.06 2.06-.94-2.06-.94-.94-2.06-.94 2.06-2.06.94zm-11 1L8.5 8.5l.94-2.06 2.06-.94-2.06-.94L8.5 2.5l-.94 2.06-2.06.94zm10 10l.94 2.06.94-2.06 2.06-.94-2.06-.94-.94-2.06-.94 2.06-2.06.94z\"/><path d=\"M17.41 7.96l-1.37-1.37c-.4-.4-.92-.59-1.43-.59-.52 0-1.04.2-1.43.59L10.3 9.45l-7.72 7.72c-.78.78-.78 2.05 0 2.83L4 21.41c.39.39.9.59 1.41.59.51 0 1.02-.2 1.41-.59l7.78-7.78 2.81-2.81c.8-.78.8-2.07 0-2.86zM5.41 20L4 18.59l7.72-7.72 1.47 1.35L5.41 20z\"/>\n",
              "  </svg>\n",
              "      </button>\n",
              "      \n",
              "  <style>\n",
              "    .colab-df-container {\n",
              "      display:flex;\n",
              "      flex-wrap:wrap;\n",
              "      gap: 12px;\n",
              "    }\n",
              "\n",
              "    .colab-df-convert {\n",
              "      background-color: #E8F0FE;\n",
              "      border: none;\n",
              "      border-radius: 50%;\n",
              "      cursor: pointer;\n",
              "      display: none;\n",
              "      fill: #1967D2;\n",
              "      height: 32px;\n",
              "      padding: 0 0 0 0;\n",
              "      width: 32px;\n",
              "    }\n",
              "\n",
              "    .colab-df-convert:hover {\n",
              "      background-color: #E2EBFA;\n",
              "      box-shadow: 0px 1px 2px rgba(60, 64, 67, 0.3), 0px 1px 3px 1px rgba(60, 64, 67, 0.15);\n",
              "      fill: #174EA6;\n",
              "    }\n",
              "\n",
              "    [theme=dark] .colab-df-convert {\n",
              "      background-color: #3B4455;\n",
              "      fill: #D2E3FC;\n",
              "    }\n",
              "\n",
              "    [theme=dark] .colab-df-convert:hover {\n",
              "      background-color: #434B5C;\n",
              "      box-shadow: 0px 1px 3px 1px rgba(0, 0, 0, 0.15);\n",
              "      filter: drop-shadow(0px 1px 2px rgba(0, 0, 0, 0.3));\n",
              "      fill: #FFFFFF;\n",
              "    }\n",
              "  </style>\n",
              "\n",
              "      <script>\n",
              "        const buttonEl =\n",
              "          document.querySelector('#df-f2a84c7a-9f32-4c97-befe-4713ecd77741 button.colab-df-convert');\n",
              "        buttonEl.style.display =\n",
              "          google.colab.kernel.accessAllowed ? 'block' : 'none';\n",
              "\n",
              "        async function convertToInteractive(key) {\n",
              "          const element = document.querySelector('#df-f2a84c7a-9f32-4c97-befe-4713ecd77741');\n",
              "          const dataTable =\n",
              "            await google.colab.kernel.invokeFunction('convertToInteractive',\n",
              "                                                     [key], {});\n",
              "          if (!dataTable) return;\n",
              "\n",
              "          const docLinkHtml = 'Like what you see? Visit the ' +\n",
              "            '<a target=\"_blank\" href=https://colab.research.google.com/notebooks/data_table.ipynb>data table notebook</a>'\n",
              "            + ' to learn more about interactive tables.';\n",
              "          element.innerHTML = '';\n",
              "          dataTable['output_type'] = 'display_data';\n",
              "          await google.colab.output.renderOutput(dataTable, element);\n",
              "          const docLink = document.createElement('div');\n",
              "          docLink.innerHTML = docLinkHtml;\n",
              "          element.appendChild(docLink);\n",
              "        }\n",
              "      </script>\n",
              "    </div>\n",
              "  </div>\n",
              "  "
            ]
          },
          "metadata": {},
          "execution_count": 26
        }
      ]
    },
    {
      "cell_type": "code",
      "source": [
        "test_vs_pred=pd.concat([test_df,predictions],axis=1)"
      ],
      "metadata": {
        "id": "6tAMk-VgNtJF"
      },
      "execution_count": null,
      "outputs": []
    },
    {
      "cell_type": "code",
      "source": [
        "test_vs_pred.plot(figsize=(12,5))"
      ],
      "metadata": {
        "colab": {
          "base_uri": "https://localhost:8080/",
          "height": 338
        },
        "id": "cB_EOy__NzBG",
        "outputId": "be8cbab2-e5dc-44f6-c74a-6ce38ba7490d"
      },
      "execution_count": null,
      "outputs": [
        {
          "output_type": "execute_result",
          "data": {
            "text/plain": [
              "<matplotlib.axes._subplots.AxesSubplot at 0x7f9a3cc14bd0>"
            ]
          },
          "metadata": {},
          "execution_count": 28
        },
        {
          "output_type": "display_data",
          "data": {
            "text/plain": [
              "<Figure size 864x360 with 1 Axes>"
            ],
            "image/png": "[encoded data removed]"
          },
          "metadata": {
            "needs_background": "light"
          }
        }
      ]
    },
    {
      "cell_type": "code",
      "source": [
        "from sklearn.metrics import mean_squared_error\n",
        "import math\n",
        "from statistics import mean\n",
        "\n",
        "rmse_LAT=math.sqrt(mean_squared_error(predictions['LAT_predicted'],test_df['LAT']))\n",
        "print('Mean value of LAT is : {}. Root Mean Squared Error is :{}'.format(mean(test_df['LAT']),rmse_LAT))\n",
        "\n",
        "rmse_LON=math.sqrt(mean_squared_error(predictions['LON_predicted'],test_df['LON']))\n",
        "print('Mean value of LON is : {}. Root Mean Squared Error is :{}'.format(mean(test_df['LON']),rmse_LON))"
      ],
      "metadata": {
        "colab": {
          "base_uri": "https://localhost:8080/"
        },
        "id": "W9mZiMBeN1cc",
        "outputId": "4b4c5a91-92d0-4c58-a6fc-f39f51bf2f91"
      },
      "execution_count": null,
      "outputs": [
        {
          "output_type": "stream",
          "name": "stdout",
          "text": [
            "Mean value of LAT is : 0.10215058008333333. Root Mean Squared Error is :8.798863581087904e-05\n",
            "Mean value of LON is : 0.19850707. Root Mean Squared Error is :0.03323830439148077\n"
          ]
        }
      ]
    },
    {
      "cell_type": "code",
      "source": [
        "test_vs_pred.columns"
      ],
      "metadata": {
        "colab": {
          "base_uri": "https://localhost:8080/"
        },
        "id": "Xqbn2edgO2Qa",
        "outputId": "0a9a8f61-c588-4691-f10b-ee935a3d17f1"
      },
      "execution_count": null,
      "outputs": [
        {
          "output_type": "execute_result",
          "data": {
            "text/plain": [
              "Index(['LAT', 'LON', 'LAT_predicted', 'LON_predicted'], dtype='object')"
            ]
          },
          "metadata": {},
          "execution_count": 30
        }
      ]
    },
    {
      "cell_type": "code",
      "source": [
        "plt.plot(test_vs_pred.LON,test_vs_pred.LAT)"
      ],
      "metadata": {
        "colab": {
          "base_uri": "https://localhost:8080/",
          "height": 294
        },
        "id": "5DhY2QhvU6PC",
        "outputId": "570bcebd-e26a-49f4-fd08-55bb59ea88ba"
      },
      "execution_count": null,
      "outputs": [
        {
          "output_type": "execute_result",
          "data": {
            "text/plain": [
              "[<matplotlib.lines.Line2D at 0x7f9a3c9ffb10>]"
            ]
          },
          "metadata": {},
          "execution_count": 31
        },
        {
          "output_type": "display_data",
          "data": {
            "text/plain": [
              "<Figure size 432x288 with 1 Axes>"
            ],
            "image/png": "[encoded data removed]"
          },
          "metadata": {
            "needs_background": "light"
          }
        }
      ]
    },
    {
      "cell_type": "code",
      "source": [
        "plt.plot(test_vs_pred.LON_predicted,test_vs_pred.LAT_predicted)"
      ],
      "metadata": {
        "colab": {
          "base_uri": "https://localhost:8080/",
          "height": 294
        },
        "id": "ncdfxK1LYO91",
        "outputId": "83b1edeb-dab4-4881-ab67-336010530b43"
      },
      "execution_count": null,
      "outputs": [
        {
          "output_type": "execute_result",
          "data": {
            "text/plain": [
              "[<matplotlib.lines.Line2D at 0x7f9a3c976b90>]"
            ]
          },
          "metadata": {},
          "execution_count": 32
        },
        {
          "output_type": "display_data",
          "data": {
            "text/plain": [
              "<Figure size 432x288 with 1 Axes>"
            ],
            "image/png": "[encoded data removed]"
          },
          "metadata": {
            "needs_background": "light"
          }
        }
      ]
    },
    {
      "cell_type": "code",
      "source": [
        "from sklearn.preprocessing import MinMaxScaler\n",
        "scaler = MinMaxScaler()\n",
        "df_scaled = scaler.fit_transform(test_vs_pred)\n",
        "df_scaled = pd.DataFrame(df_scaled, columns=['LAT', 'LON', 'LAT_predicted', 'LON_predicted'])"
      ],
      "metadata": {
        "id": "_2Nh9KL9ab4o"
      },
      "execution_count": null,
      "outputs": []
    },
    {
      "cell_type": "code",
      "source": [
        "df_scaled"
      ],
      "metadata": {
        "colab": {
          "base_uri": "https://localhost:8080/",
          "height": 426
        },
        "id": "hCl5VzxxcK3D",
        "outputId": "ba2538cd-aea7-4071-fcd7-aa7a7dc8d7f1"
      },
      "execution_count": null,
      "outputs": [
        {
          "output_type": "execute_result",
          "data": {
            "text/plain": [
              "         LAT       LON  LAT_predicted  LON_predicted\n",
              "0   1.000000  1.000000       0.000000       0.000000\n",
              "1   0.966514  0.924948       0.234715       0.245175\n",
              "2   0.915968  0.824968       0.476348       0.492030\n",
              "3   0.848784  0.736188       0.727710       0.740720\n",
              "4   0.705851  0.648296       0.992391       0.992021\n",
              "5   0.605005  0.560268       0.995362       0.995190\n",
              "6   0.520973  0.473469       0.997624       0.997564\n",
              "7   0.378216  0.385850       0.999162       0.999149\n",
              "8   0.226859  0.261217       0.999955       0.999952\n",
              "9   0.083891  0.175032       0.999979       0.999977\n",
              "10  0.058865  0.087618       0.999993       0.999992\n",
              "11  0.000000  0.000000       1.000000       1.000000"
            ],
            "text/html": [
              "\n",
              "  <div id=\"df-d8cb90ee-ae09-4c7a-b6d8-452ac03d9c9a\">\n",
              "    <div class=\"colab-df-container\">\n",
              "      <div>\n",
              "<style scoped>\n",
              "    .dataframe tbody tr th:only-of-type {\n",
              "        vertical-align: middle;\n",
              "    }\n",
              "\n",
              "    .dataframe tbody tr th {\n",
              "        vertical-align: top;\n",
              "    }\n",
              "\n",
              "    .dataframe thead th {\n",
              "        text-align: right;\n",
              "    }\n",
              "</style>\n",
              "<table border=\"1\" class=\"dataframe\">\n",
              "  <thead>\n",
              "    <tr style=\"text-align: right;\">\n",
              "      <th></th>\n",
              "      <th>LAT</th>\n",
              "      <th>LON</th>\n",
              "      <th>LAT_predicted</th>\n",
              "      <th>LON_predicted</th>\n",
              "    </tr>\n",
              "  </thead>\n",
              "  <tbody>\n",
              "    <tr>\n",
              "      <th>0</th>\n",
              "      <td>1.000000</td>\n",
              "      <td>1.000000</td>\n",
              "      <td>0.000000</td>\n",
              "      <td>0.000000</td>\n",
              "    </tr>\n",
              "    <tr>\n",
              "      <th>1</th>\n",
              "      <td>0.966514</td>\n",
              "      <td>0.924948</td>\n",
              "      <td>0.234715</td>\n",
              "      <td>0.245175</td>\n",
              "    </tr>\n",
              "    <tr>\n",
              "      <th>2</th>\n",
              "      <td>0.915968</td>\n",
              "      <td>0.824968</td>\n",
              "      <td>0.476348</td>\n",
              "      <td>0.492030</td>\n",
              "    </tr>\n",
              "    <tr>\n",
              "      <th>3</th>\n",
              "      <td>0.848784</td>\n",
              "      <td>0.736188</td>\n",
              "      <td>0.727710</td>\n",
              "      <td>0.740720</td>\n",
              "    </tr>\n",
              "    <tr>\n",
              "      <th>4</th>\n",
              "      <td>0.705851</td>\n",
              "      <td>0.648296</td>\n",
              "      <td>0.992391</td>\n",
              "      <td>0.992021</td>\n",
              "    </tr>\n",
              "    <tr>\n",
              "      <th>5</th>\n",
              "      <td>0.605005</td>\n",
              "      <td>0.560268</td>\n",
              "      <td>0.995362</td>\n",
              "      <td>0.995190</td>\n",
              "    </tr>\n",
              "    <tr>\n",
              "      <th>6</th>\n",
              "      <td>0.520973</td>\n",
              "      <td>0.473469</td>\n",
              "      <td>0.997624</td>\n",
              "      <td>0.997564</td>\n",
              "    </tr>\n",
              "    <tr>\n",
              "      <th>7</th>\n",
              "      <td>0.378216</td>\n",
              "      <td>0.385850</td>\n",
              "      <td>0.999162</td>\n",
              "      <td>0.999149</td>\n",
              "    </tr>\n",
              "    <tr>\n",
              "      <th>8</th>\n",
              "      <td>0.226859</td>\n",
              "      <td>0.261217</td>\n",
              "      <td>0.999955</td>\n",
              "      <td>0.999952</td>\n",
              "    </tr>\n",
              "    <tr>\n",
              "      <th>9</th>\n",
              "      <td>0.083891</td>\n",
              "      <td>0.175032</td>\n",
              "      <td>0.999979</td>\n",
              "      <td>0.999977</td>\n",
              "    </tr>\n",
              "    <tr>\n",
              "      <th>10</th>\n",
              "      <td>0.058865</td>\n",
              "      <td>0.087618</td>\n",
              "      <td>0.999993</td>\n",
              "      <td>0.999992</td>\n",
              "    </tr>\n",
              "    <tr>\n",
              "      <th>11</th>\n",
              "      <td>0.000000</td>\n",
              "      <td>0.000000</td>\n",
              "      <td>1.000000</td>\n",
              "      <td>1.000000</td>\n",
              "    </tr>\n",
              "  </tbody>\n",
              "</table>\n",
              "</div>\n",
              "      <button class=\"colab-df-convert\" onclick=\"convertToInteractive('df-d8cb90ee-ae09-4c7a-b6d8-452ac03d9c9a')\"\n",
              "              title=\"Convert this dataframe to an interactive table.\"\n",
              "              style=\"display:none;\">\n",
              "        \n",
              "  <svg xmlns=\"http://www.w3.org/2000/svg\" height=\"24px\"viewBox=\"0 0 24 24\"\n",
              "       width=\"24px\">\n",
              "    <path d=\"M0 0h24v24H0V0z\" fill=\"none\"/>\n",
              "    <path d=\"M18.56 5.44l.94 2.06.94-2.06 2.06-.94-2.06-.94-.94-2.06-.94 2.06-2.06.94zm-11 1L8.5 8.5l.94-2.06 2.06-.94-2.06-.94L8.5 2.5l-.94 2.06-2.06.94zm10 10l.94 2.06.94-2.06 2.06-.94-2.06-.94-.94-2.06-.94 2.06-2.06.94z\"/><path d=\"M17.41 7.96l-1.37-1.37c-.4-.4-.92-.59-1.43-.59-.52 0-1.04.2-1.43.59L10.3 9.45l-7.72 7.72c-.78.78-.78 2.05 0 2.83L4 21.41c.39.39.9.59 1.41.59.51 0 1.02-.2 1.41-.59l7.78-7.78 2.81-2.81c.8-.78.8-2.07 0-2.86zM5.41 20L4 18.59l7.72-7.72 1.47 1.35L5.41 20z\"/>\n",
              "  </svg>\n",
              "      </button>\n",
              "      \n",
              "  <style>\n",
              "    .colab-df-container {\n",
              "      display:flex;\n",
              "      flex-wrap:wrap;\n",
              "      gap: 12px;\n",
              "    }\n",
              "\n",
              "    .colab-df-convert {\n",
              "      background-color: #E8F0FE;\n",
              "      border: none;\n",
              "      border-radius: 50%;\n",
              "      cursor: pointer;\n",
              "      display: none;\n",
              "      fill: #1967D2;\n",
              "      height: 32px;\n",
              "      padding: 0 0 0 0;\n",
              "      width: 32px;\n",
              "    }\n",
              "\n",
              "    .colab-df-convert:hover {\n",
              "      background-color: #E2EBFA;\n",
              "      box-shadow: 0px 1px 2px rgba(60, 64, 67, 0.3), 0px 1px 3px 1px rgba(60, 64, 67, 0.15);\n",
              "      fill: #174EA6;\n",
              "    }\n",
              "\n",
              "    [theme=dark] .colab-df-convert {\n",
              "      background-color: #3B4455;\n",
              "      fill: #D2E3FC;\n",
              "    }\n",
              "\n",
              "    [theme=dark] .colab-df-convert:hover {\n",
              "      background-color: #434B5C;\n",
              "      box-shadow: 0px 1px 3px 1px rgba(0, 0, 0, 0.15);\n",
              "      filter: drop-shadow(0px 1px 2px rgba(0, 0, 0, 0.3));\n",
              "      fill: #FFFFFF;\n",
              "    }\n",
              "  </style>\n",
              "\n",
              "      <script>\n",
              "        const buttonEl =\n",
              "          document.querySelector('#df-d8cb90ee-ae09-4c7a-b6d8-452ac03d9c9a button.colab-df-convert');\n",
              "        buttonEl.style.display =\n",
              "          google.colab.kernel.accessAllowed ? 'block' : 'none';\n",
              "\n",
              "        async function convertToInteractive(key) {\n",
              "          const element = document.querySelector('#df-d8cb90ee-ae09-4c7a-b6d8-452ac03d9c9a');\n",
              "          const dataTable =\n",
              "            await google.colab.kernel.invokeFunction('convertToInteractive',\n",
              "                                                     [key], {});\n",
              "          if (!dataTable) return;\n",
              "\n",
              "          const docLinkHtml = 'Like what you see? Visit the ' +\n",
              "            '<a target=\"_blank\" href=https://colab.research.google.com/notebooks/data_table.ipynb>data table notebook</a>'\n",
              "            + ' to learn more about interactive tables.';\n",
              "          element.innerHTML = '';\n",
              "          dataTable['output_type'] = 'display_data';\n",
              "          await google.colab.output.renderOutput(dataTable, element);\n",
              "          const docLink = document.createElement('div');\n",
              "          docLink.innerHTML = docLinkHtml;\n",
              "          element.appendChild(docLink);\n",
              "        }\n",
              "      </script>\n",
              "    </div>\n",
              "  </div>\n",
              "  "
            ]
          },
          "metadata": {},
          "execution_count": 34
        }
      ]
    },
    {
      "cell_type": "code",
      "source": [
        "plt.plot(df_scaled.LON,df_scaled.LAT)\n",
        "plt.plot(df_scaled.LON_predicted,df_scaled.LAT_predicted);\n",
        "plt.legend(loc=8)"
      ],
      "metadata": {
        "colab": {
          "base_uri": "https://localhost:8080/",
          "height": 301
        },
        "id": "tpM32NmDcMKx",
        "outputId": "4749a51c-c0ea-4650-f676-3a44009b52d6"
      },
      "execution_count": null,
      "outputs": [
        {
          "output_type": "stream",
          "name": "stderr",
          "text": [
            "WARNING:matplotlib.legend:No handles with labels found to put in legend.\n"
          ]
        },
        {
          "output_type": "execute_result",
          "data": {
            "text/plain": [
              "<matplotlib.legend.Legend at 0x7f9a3c8f2cd0>"
            ]
          },
          "metadata": {},
          "execution_count": 35
        },
        {
          "output_type": "display_data",
          "data": {
            "text/plain": [
              "<Figure size 432x288 with 1 Axes>"
            ],
            "image/png": "[encoded data removed]"
          },
          "metadata": {
            "needs_background": "light"
          }
        }
      ]
    }
  ]
}